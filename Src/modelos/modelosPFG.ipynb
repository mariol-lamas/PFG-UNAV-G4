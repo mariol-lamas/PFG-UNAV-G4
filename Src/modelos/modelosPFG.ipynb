{
  "cells": [
    {
      "cell_type": "code",
      "execution_count": null,
      "metadata": {
        "id": "HkPVdwCYWWLe"
      },
      "outputs": [],
      "source": [
        "import pandas as pd\n",
        "import numpy as np\n",
        "from sklearn.model_selection import train_test_split"
      ]
    },
    {
      "cell_type": "code",
      "execution_count": null,
      "metadata": {
        "id": "koFtaRn7WWLg"
      },
      "outputs": [],
      "source": [
        "#data_sin=pd.read_csv('../../Data/Cleaned/bbank_full_limpio_v0_sindefault.csv')\n",
        "#data_sin.head()"
      ]
    },
    {
      "cell_type": "code",
      "source": [
        "from google.colab import files\n",
        "uploaded = files.upload()"
      ],
      "metadata": {
        "colab": {
          "base_uri": "https://localhost:8080/",
          "height": 73
        },
        "id": "Hq-BoWkUWhRm",
        "outputId": "db8541d8-0e0b-4bb5-cf36-9f9e8011a21f"
      },
      "execution_count": null,
      "outputs": [
        {
          "output_type": "display_data",
          "data": {
            "text/plain": [
              "<IPython.core.display.HTML object>"
            ],
            "text/html": [
              "\n",
              "     <input type=\"file\" id=\"files-53a7b7de-aec1-49f7-981c-1459adbc5927\" name=\"files[]\" multiple disabled\n",
              "        style=\"border:none\" />\n",
              "     <output id=\"result-53a7b7de-aec1-49f7-981c-1459adbc5927\">\n",
              "      Upload widget is only available when the cell has been executed in the\n",
              "      current browser session. Please rerun this cell to enable.\n",
              "      </output>\n",
              "      <script>// Copyright 2017 Google LLC\n",
              "//\n",
              "// Licensed under the Apache License, Version 2.0 (the \"License\");\n",
              "// you may not use this file except in compliance with the License.\n",
              "// You may obtain a copy of the License at\n",
              "//\n",
              "//      http://www.apache.org/licenses/LICENSE-2.0\n",
              "//\n",
              "// Unless required by applicable law or agreed to in writing, software\n",
              "// distributed under the License is distributed on an \"AS IS\" BASIS,\n",
              "// WITHOUT WARRANTIES OR CONDITIONS OF ANY KIND, either express or implied.\n",
              "// See the License for the specific language governing permissions and\n",
              "// limitations under the License.\n",
              "\n",
              "/**\n",
              " * @fileoverview Helpers for google.colab Python module.\n",
              " */\n",
              "(function(scope) {\n",
              "function span(text, styleAttributes = {}) {\n",
              "  const element = document.createElement('span');\n",
              "  element.textContent = text;\n",
              "  for (const key of Object.keys(styleAttributes)) {\n",
              "    element.style[key] = styleAttributes[key];\n",
              "  }\n",
              "  return element;\n",
              "}\n",
              "\n",
              "// Max number of bytes which will be uploaded at a time.\n",
              "const MAX_PAYLOAD_SIZE = 100 * 1024;\n",
              "\n",
              "function _uploadFiles(inputId, outputId) {\n",
              "  const steps = uploadFilesStep(inputId, outputId);\n",
              "  const outputElement = document.getElementById(outputId);\n",
              "  // Cache steps on the outputElement to make it available for the next call\n",
              "  // to uploadFilesContinue from Python.\n",
              "  outputElement.steps = steps;\n",
              "\n",
              "  return _uploadFilesContinue(outputId);\n",
              "}\n",
              "\n",
              "// This is roughly an async generator (not supported in the browser yet),\n",
              "// where there are multiple asynchronous steps and the Python side is going\n",
              "// to poll for completion of each step.\n",
              "// This uses a Promise to block the python side on completion of each step,\n",
              "// then passes the result of the previous step as the input to the next step.\n",
              "function _uploadFilesContinue(outputId) {\n",
              "  const outputElement = document.getElementById(outputId);\n",
              "  const steps = outputElement.steps;\n",
              "\n",
              "  const next = steps.next(outputElement.lastPromiseValue);\n",
              "  return Promise.resolve(next.value.promise).then((value) => {\n",
              "    // Cache the last promise value to make it available to the next\n",
              "    // step of the generator.\n",
              "    outputElement.lastPromiseValue = value;\n",
              "    return next.value.response;\n",
              "  });\n",
              "}\n",
              "\n",
              "/**\n",
              " * Generator function which is called between each async step of the upload\n",
              " * process.\n",
              " * @param {string} inputId Element ID of the input file picker element.\n",
              " * @param {string} outputId Element ID of the output display.\n",
              " * @return {!Iterable<!Object>} Iterable of next steps.\n",
              " */\n",
              "function* uploadFilesStep(inputId, outputId) {\n",
              "  const inputElement = document.getElementById(inputId);\n",
              "  inputElement.disabled = false;\n",
              "\n",
              "  const outputElement = document.getElementById(outputId);\n",
              "  outputElement.innerHTML = '';\n",
              "\n",
              "  const pickedPromise = new Promise((resolve) => {\n",
              "    inputElement.addEventListener('change', (e) => {\n",
              "      resolve(e.target.files);\n",
              "    });\n",
              "  });\n",
              "\n",
              "  const cancel = document.createElement('button');\n",
              "  inputElement.parentElement.appendChild(cancel);\n",
              "  cancel.textContent = 'Cancel upload';\n",
              "  const cancelPromise = new Promise((resolve) => {\n",
              "    cancel.onclick = () => {\n",
              "      resolve(null);\n",
              "    };\n",
              "  });\n",
              "\n",
              "  // Wait for the user to pick the files.\n",
              "  const files = yield {\n",
              "    promise: Promise.race([pickedPromise, cancelPromise]),\n",
              "    response: {\n",
              "      action: 'starting',\n",
              "    }\n",
              "  };\n",
              "\n",
              "  cancel.remove();\n",
              "\n",
              "  // Disable the input element since further picks are not allowed.\n",
              "  inputElement.disabled = true;\n",
              "\n",
              "  if (!files) {\n",
              "    return {\n",
              "      response: {\n",
              "        action: 'complete',\n",
              "      }\n",
              "    };\n",
              "  }\n",
              "\n",
              "  for (const file of files) {\n",
              "    const li = document.createElement('li');\n",
              "    li.append(span(file.name, {fontWeight: 'bold'}));\n",
              "    li.append(span(\n",
              "        `(${file.type || 'n/a'}) - ${file.size} bytes, ` +\n",
              "        `last modified: ${\n",
              "            file.lastModifiedDate ? file.lastModifiedDate.toLocaleDateString() :\n",
              "                                    'n/a'} - `));\n",
              "    const percent = span('0% done');\n",
              "    li.appendChild(percent);\n",
              "\n",
              "    outputElement.appendChild(li);\n",
              "\n",
              "    const fileDataPromise = new Promise((resolve) => {\n",
              "      const reader = new FileReader();\n",
              "      reader.onload = (e) => {\n",
              "        resolve(e.target.result);\n",
              "      };\n",
              "      reader.readAsArrayBuffer(file);\n",
              "    });\n",
              "    // Wait for the data to be ready.\n",
              "    let fileData = yield {\n",
              "      promise: fileDataPromise,\n",
              "      response: {\n",
              "        action: 'continue',\n",
              "      }\n",
              "    };\n",
              "\n",
              "    // Use a chunked sending to avoid message size limits. See b/62115660.\n",
              "    let position = 0;\n",
              "    do {\n",
              "      const length = Math.min(fileData.byteLength - position, MAX_PAYLOAD_SIZE);\n",
              "      const chunk = new Uint8Array(fileData, position, length);\n",
              "      position += length;\n",
              "\n",
              "      const base64 = btoa(String.fromCharCode.apply(null, chunk));\n",
              "      yield {\n",
              "        response: {\n",
              "          action: 'append',\n",
              "          file: file.name,\n",
              "          data: base64,\n",
              "        },\n",
              "      };\n",
              "\n",
              "      let percentDone = fileData.byteLength === 0 ?\n",
              "          100 :\n",
              "          Math.round((position / fileData.byteLength) * 100);\n",
              "      percent.textContent = `${percentDone}% done`;\n",
              "\n",
              "    } while (position < fileData.byteLength);\n",
              "  }\n",
              "\n",
              "  // All done.\n",
              "  yield {\n",
              "    response: {\n",
              "      action: 'complete',\n",
              "    }\n",
              "  };\n",
              "}\n",
              "\n",
              "scope.google = scope.google || {};\n",
              "scope.google.colab = scope.google.colab || {};\n",
              "scope.google.colab._files = {\n",
              "  _uploadFiles,\n",
              "  _uploadFilesContinue,\n",
              "};\n",
              "})(self);\n",
              "</script> "
            ]
          },
          "metadata": {}
        },
        {
          "output_type": "stream",
          "name": "stdout",
          "text": [
            "Saving bank_full_limpio_v0_sindefault.csv to bank_full_limpio_v0_sindefault.csv\n"
          ]
        }
      ]
    },
    {
      "cell_type": "code",
      "source": [
        "data_sin=pd.read_csv('bank_full_limpio_v0_sindefault.csv')\n",
        "data_sin.head()"
      ],
      "metadata": {
        "colab": {
          "base_uri": "https://localhost:8080/",
          "height": 226
        },
        "id": "do740T-eWpvn",
        "outputId": "0cc7f29b-39bc-44a7-ec45-09dd8c10b077"
      },
      "execution_count": null,
      "outputs": [
        {
          "output_type": "execute_result",
          "data": {
            "text/plain": [
              "   age    job  marital  education  balance  housing   loan    car  contact  \\\n",
              "0   58  0.139    0.102      0.151    0.165    0.078  0.128  0.102    0.041   \n",
              "1   44  0.111    0.151      0.107    0.082    0.078  0.128  0.151    0.041   \n",
              "2   33  0.083    0.102      0.107    0.082    0.078  0.067  0.102    0.041   \n",
              "3   47  0.074    0.102      0.135    0.165    0.078  0.128  0.102    0.041   \n",
              "4   33  0.115    0.151      0.135    0.082    0.168  0.128  0.151    0.041   \n",
              "\n",
              "   day  month  duration  campaign  previous  poutcome  subscribed  dia_semana  \n",
              "0    5  0.068     0.119         1         0     0.093           0       0.122  \n",
              "1    5  0.068     0.119         1         0     0.093           0       0.122  \n",
              "2    5  0.068     0.119         1         0     0.093           0       0.122  \n",
              "3    5  0.068     0.119         1         0     0.093           0       0.122  \n",
              "4    5  0.068     0.119         1         0     0.093           0       0.122  "
            ],
            "text/html": [
              "\n",
              "  <div id=\"df-b55e73b7-ec56-4e1d-b4fb-e17179fc2cd2\" class=\"colab-df-container\">\n",
              "    <div>\n",
              "<style scoped>\n",
              "    .dataframe tbody tr th:only-of-type {\n",
              "        vertical-align: middle;\n",
              "    }\n",
              "\n",
              "    .dataframe tbody tr th {\n",
              "        vertical-align: top;\n",
              "    }\n",
              "\n",
              "    .dataframe thead th {\n",
              "        text-align: right;\n",
              "    }\n",
              "</style>\n",
              "<table border=\"1\" class=\"dataframe\">\n",
              "  <thead>\n",
              "    <tr style=\"text-align: right;\">\n",
              "      <th></th>\n",
              "      <th>age</th>\n",
              "      <th>job</th>\n",
              "      <th>marital</th>\n",
              "      <th>education</th>\n",
              "      <th>balance</th>\n",
              "      <th>housing</th>\n",
              "      <th>loan</th>\n",
              "      <th>car</th>\n",
              "      <th>contact</th>\n",
              "      <th>day</th>\n",
              "      <th>month</th>\n",
              "      <th>duration</th>\n",
              "      <th>campaign</th>\n",
              "      <th>previous</th>\n",
              "      <th>poutcome</th>\n",
              "      <th>subscribed</th>\n",
              "      <th>dia_semana</th>\n",
              "    </tr>\n",
              "  </thead>\n",
              "  <tbody>\n",
              "    <tr>\n",
              "      <th>0</th>\n",
              "      <td>58</td>\n",
              "      <td>0.139</td>\n",
              "      <td>0.102</td>\n",
              "      <td>0.151</td>\n",
              "      <td>0.165</td>\n",
              "      <td>0.078</td>\n",
              "      <td>0.128</td>\n",
              "      <td>0.102</td>\n",
              "      <td>0.041</td>\n",
              "      <td>5</td>\n",
              "      <td>0.068</td>\n",
              "      <td>0.119</td>\n",
              "      <td>1</td>\n",
              "      <td>0</td>\n",
              "      <td>0.093</td>\n",
              "      <td>0</td>\n",
              "      <td>0.122</td>\n",
              "    </tr>\n",
              "    <tr>\n",
              "      <th>1</th>\n",
              "      <td>44</td>\n",
              "      <td>0.111</td>\n",
              "      <td>0.151</td>\n",
              "      <td>0.107</td>\n",
              "      <td>0.082</td>\n",
              "      <td>0.078</td>\n",
              "      <td>0.128</td>\n",
              "      <td>0.151</td>\n",
              "      <td>0.041</td>\n",
              "      <td>5</td>\n",
              "      <td>0.068</td>\n",
              "      <td>0.119</td>\n",
              "      <td>1</td>\n",
              "      <td>0</td>\n",
              "      <td>0.093</td>\n",
              "      <td>0</td>\n",
              "      <td>0.122</td>\n",
              "    </tr>\n",
              "    <tr>\n",
              "      <th>2</th>\n",
              "      <td>33</td>\n",
              "      <td>0.083</td>\n",
              "      <td>0.102</td>\n",
              "      <td>0.107</td>\n",
              "      <td>0.082</td>\n",
              "      <td>0.078</td>\n",
              "      <td>0.067</td>\n",
              "      <td>0.102</td>\n",
              "      <td>0.041</td>\n",
              "      <td>5</td>\n",
              "      <td>0.068</td>\n",
              "      <td>0.119</td>\n",
              "      <td>1</td>\n",
              "      <td>0</td>\n",
              "      <td>0.093</td>\n",
              "      <td>0</td>\n",
              "      <td>0.122</td>\n",
              "    </tr>\n",
              "    <tr>\n",
              "      <th>3</th>\n",
              "      <td>47</td>\n",
              "      <td>0.074</td>\n",
              "      <td>0.102</td>\n",
              "      <td>0.135</td>\n",
              "      <td>0.165</td>\n",
              "      <td>0.078</td>\n",
              "      <td>0.128</td>\n",
              "      <td>0.102</td>\n",
              "      <td>0.041</td>\n",
              "      <td>5</td>\n",
              "      <td>0.068</td>\n",
              "      <td>0.119</td>\n",
              "      <td>1</td>\n",
              "      <td>0</td>\n",
              "      <td>0.093</td>\n",
              "      <td>0</td>\n",
              "      <td>0.122</td>\n",
              "    </tr>\n",
              "    <tr>\n",
              "      <th>4</th>\n",
              "      <td>33</td>\n",
              "      <td>0.115</td>\n",
              "      <td>0.151</td>\n",
              "      <td>0.135</td>\n",
              "      <td>0.082</td>\n",
              "      <td>0.168</td>\n",
              "      <td>0.128</td>\n",
              "      <td>0.151</td>\n",
              "      <td>0.041</td>\n",
              "      <td>5</td>\n",
              "      <td>0.068</td>\n",
              "      <td>0.119</td>\n",
              "      <td>1</td>\n",
              "      <td>0</td>\n",
              "      <td>0.093</td>\n",
              "      <td>0</td>\n",
              "      <td>0.122</td>\n",
              "    </tr>\n",
              "  </tbody>\n",
              "</table>\n",
              "</div>\n",
              "    <div class=\"colab-df-buttons\">\n",
              "\n",
              "  <div class=\"colab-df-container\">\n",
              "    <button class=\"colab-df-convert\" onclick=\"convertToInteractive('df-b55e73b7-ec56-4e1d-b4fb-e17179fc2cd2')\"\n",
              "            title=\"Convert this dataframe to an interactive table.\"\n",
              "            style=\"display:none;\">\n",
              "\n",
              "  <svg xmlns=\"http://www.w3.org/2000/svg\" height=\"24px\" viewBox=\"0 -960 960 960\">\n",
              "    <path d=\"M120-120v-720h720v720H120Zm60-500h600v-160H180v160Zm220 220h160v-160H400v160Zm0 220h160v-160H400v160ZM180-400h160v-160H180v160Zm440 0h160v-160H620v160ZM180-180h160v-160H180v160Zm440 0h160v-160H620v160Z\"/>\n",
              "  </svg>\n",
              "    </button>\n",
              "\n",
              "  <style>\n",
              "    .colab-df-container {\n",
              "      display:flex;\n",
              "      gap: 12px;\n",
              "    }\n",
              "\n",
              "    .colab-df-convert {\n",
              "      background-color: #E8F0FE;\n",
              "      border: none;\n",
              "      border-radius: 50%;\n",
              "      cursor: pointer;\n",
              "      display: none;\n",
              "      fill: #1967D2;\n",
              "      height: 32px;\n",
              "      padding: 0 0 0 0;\n",
              "      width: 32px;\n",
              "    }\n",
              "\n",
              "    .colab-df-convert:hover {\n",
              "      background-color: #E2EBFA;\n",
              "      box-shadow: 0px 1px 2px rgba(60, 64, 67, 0.3), 0px 1px 3px 1px rgba(60, 64, 67, 0.15);\n",
              "      fill: #174EA6;\n",
              "    }\n",
              "\n",
              "    .colab-df-buttons div {\n",
              "      margin-bottom: 4px;\n",
              "    }\n",
              "\n",
              "    [theme=dark] .colab-df-convert {\n",
              "      background-color: #3B4455;\n",
              "      fill: #D2E3FC;\n",
              "    }\n",
              "\n",
              "    [theme=dark] .colab-df-convert:hover {\n",
              "      background-color: #434B5C;\n",
              "      box-shadow: 0px 1px 3px 1px rgba(0, 0, 0, 0.15);\n",
              "      filter: drop-shadow(0px 1px 2px rgba(0, 0, 0, 0.3));\n",
              "      fill: #FFFFFF;\n",
              "    }\n",
              "  </style>\n",
              "\n",
              "    <script>\n",
              "      const buttonEl =\n",
              "        document.querySelector('#df-b55e73b7-ec56-4e1d-b4fb-e17179fc2cd2 button.colab-df-convert');\n",
              "      buttonEl.style.display =\n",
              "        google.colab.kernel.accessAllowed ? 'block' : 'none';\n",
              "\n",
              "      async function convertToInteractive(key) {\n",
              "        const element = document.querySelector('#df-b55e73b7-ec56-4e1d-b4fb-e17179fc2cd2');\n",
              "        const dataTable =\n",
              "          await google.colab.kernel.invokeFunction('convertToInteractive',\n",
              "                                                    [key], {});\n",
              "        if (!dataTable) return;\n",
              "\n",
              "        const docLinkHtml = 'Like what you see? Visit the ' +\n",
              "          '<a target=\"_blank\" href=https://colab.research.google.com/notebooks/data_table.ipynb>data table notebook</a>'\n",
              "          + ' to learn more about interactive tables.';\n",
              "        element.innerHTML = '';\n",
              "        dataTable['output_type'] = 'display_data';\n",
              "        await google.colab.output.renderOutput(dataTable, element);\n",
              "        const docLink = document.createElement('div');\n",
              "        docLink.innerHTML = docLinkHtml;\n",
              "        element.appendChild(docLink);\n",
              "      }\n",
              "    </script>\n",
              "  </div>\n",
              "\n",
              "\n",
              "<div id=\"df-c0ecb84f-294e-44c2-acd7-f23c5c8b9e4f\">\n",
              "  <button class=\"colab-df-quickchart\" onclick=\"quickchart('df-c0ecb84f-294e-44c2-acd7-f23c5c8b9e4f')\"\n",
              "            title=\"Suggest charts\"\n",
              "            style=\"display:none;\">\n",
              "\n",
              "<svg xmlns=\"http://www.w3.org/2000/svg\" height=\"24px\"viewBox=\"0 0 24 24\"\n",
              "     width=\"24px\">\n",
              "    <g>\n",
              "        <path d=\"M19 3H5c-1.1 0-2 .9-2 2v14c0 1.1.9 2 2 2h14c1.1 0 2-.9 2-2V5c0-1.1-.9-2-2-2zM9 17H7v-7h2v7zm4 0h-2V7h2v10zm4 0h-2v-4h2v4z\"/>\n",
              "    </g>\n",
              "</svg>\n",
              "  </button>\n",
              "\n",
              "<style>\n",
              "  .colab-df-quickchart {\n",
              "      --bg-color: #E8F0FE;\n",
              "      --fill-color: #1967D2;\n",
              "      --hover-bg-color: #E2EBFA;\n",
              "      --hover-fill-color: #174EA6;\n",
              "      --disabled-fill-color: #AAA;\n",
              "      --disabled-bg-color: #DDD;\n",
              "  }\n",
              "\n",
              "  [theme=dark] .colab-df-quickchart {\n",
              "      --bg-color: #3B4455;\n",
              "      --fill-color: #D2E3FC;\n",
              "      --hover-bg-color: #434B5C;\n",
              "      --hover-fill-color: #FFFFFF;\n",
              "      --disabled-bg-color: #3B4455;\n",
              "      --disabled-fill-color: #666;\n",
              "  }\n",
              "\n",
              "  .colab-df-quickchart {\n",
              "    background-color: var(--bg-color);\n",
              "    border: none;\n",
              "    border-radius: 50%;\n",
              "    cursor: pointer;\n",
              "    display: none;\n",
              "    fill: var(--fill-color);\n",
              "    height: 32px;\n",
              "    padding: 0;\n",
              "    width: 32px;\n",
              "  }\n",
              "\n",
              "  .colab-df-quickchart:hover {\n",
              "    background-color: var(--hover-bg-color);\n",
              "    box-shadow: 0 1px 2px rgba(60, 64, 67, 0.3), 0 1px 3px 1px rgba(60, 64, 67, 0.15);\n",
              "    fill: var(--button-hover-fill-color);\n",
              "  }\n",
              "\n",
              "  .colab-df-quickchart-complete:disabled,\n",
              "  .colab-df-quickchart-complete:disabled:hover {\n",
              "    background-color: var(--disabled-bg-color);\n",
              "    fill: var(--disabled-fill-color);\n",
              "    box-shadow: none;\n",
              "  }\n",
              "\n",
              "  .colab-df-spinner {\n",
              "    border: 2px solid var(--fill-color);\n",
              "    border-color: transparent;\n",
              "    border-bottom-color: var(--fill-color);\n",
              "    animation:\n",
              "      spin 1s steps(1) infinite;\n",
              "  }\n",
              "\n",
              "  @keyframes spin {\n",
              "    0% {\n",
              "      border-color: transparent;\n",
              "      border-bottom-color: var(--fill-color);\n",
              "      border-left-color: var(--fill-color);\n",
              "    }\n",
              "    20% {\n",
              "      border-color: transparent;\n",
              "      border-left-color: var(--fill-color);\n",
              "      border-top-color: var(--fill-color);\n",
              "    }\n",
              "    30% {\n",
              "      border-color: transparent;\n",
              "      border-left-color: var(--fill-color);\n",
              "      border-top-color: var(--fill-color);\n",
              "      border-right-color: var(--fill-color);\n",
              "    }\n",
              "    40% {\n",
              "      border-color: transparent;\n",
              "      border-right-color: var(--fill-color);\n",
              "      border-top-color: var(--fill-color);\n",
              "    }\n",
              "    60% {\n",
              "      border-color: transparent;\n",
              "      border-right-color: var(--fill-color);\n",
              "    }\n",
              "    80% {\n",
              "      border-color: transparent;\n",
              "      border-right-color: var(--fill-color);\n",
              "      border-bottom-color: var(--fill-color);\n",
              "    }\n",
              "    90% {\n",
              "      border-color: transparent;\n",
              "      border-bottom-color: var(--fill-color);\n",
              "    }\n",
              "  }\n",
              "</style>\n",
              "\n",
              "  <script>\n",
              "    async function quickchart(key) {\n",
              "      const quickchartButtonEl =\n",
              "        document.querySelector('#' + key + ' button');\n",
              "      quickchartButtonEl.disabled = true;  // To prevent multiple clicks.\n",
              "      quickchartButtonEl.classList.add('colab-df-spinner');\n",
              "      try {\n",
              "        const charts = await google.colab.kernel.invokeFunction(\n",
              "            'suggestCharts', [key], {});\n",
              "      } catch (error) {\n",
              "        console.error('Error during call to suggestCharts:', error);\n",
              "      }\n",
              "      quickchartButtonEl.classList.remove('colab-df-spinner');\n",
              "      quickchartButtonEl.classList.add('colab-df-quickchart-complete');\n",
              "    }\n",
              "    (() => {\n",
              "      let quickchartButtonEl =\n",
              "        document.querySelector('#df-c0ecb84f-294e-44c2-acd7-f23c5c8b9e4f button');\n",
              "      quickchartButtonEl.style.display =\n",
              "        google.colab.kernel.accessAllowed ? 'block' : 'none';\n",
              "    })();\n",
              "  </script>\n",
              "</div>\n",
              "    </div>\n",
              "  </div>\n"
            ],
            "application/vnd.google.colaboratory.intrinsic+json": {
              "type": "dataframe",
              "variable_name": "data_sin",
              "summary": "{\n  \"name\": \"data_sin\",\n  \"rows\": 44714,\n  \"fields\": [\n    {\n      \"column\": \"age\",\n      \"properties\": {\n        \"dtype\": \"number\",\n        \"std\": 10,\n        \"min\": 18,\n        \"max\": 95,\n        \"num_unique_values\": 77,\n        \"samples\": [\n          35,\n          26,\n          60\n        ],\n        \"semantic_type\": \"\",\n        \"description\": \"\"\n      }\n    },\n    {\n      \"column\": \"job\",\n      \"properties\": {\n        \"dtype\": \"number\",\n        \"std\": 0.04368687182646401,\n        \"min\": 0.074,\n        \"max\": 0.285,\n        \"num_unique_values\": 12,\n        \"samples\": [\n          0.088,\n          0.156,\n          0.139\n        ],\n        \"semantic_type\": \"\",\n        \"description\": \"\"\n      }\n    },\n    {\n      \"column\": \"marital\",\n      \"properties\": {\n        \"dtype\": \"number\",\n        \"std\": 0.02149205494128825,\n        \"min\": 0.102,\n        \"max\": 0.151,\n        \"num_unique_values\": 3,\n        \"samples\": [\n          0.102,\n          0.151,\n          0.12\n        ],\n        \"semantic_type\": \"\",\n        \"description\": \"\"\n      }\n    },\n    {\n      \"column\": \"education\",\n      \"properties\": {\n        \"dtype\": \"number\",\n        \"std\": 0.023237189101585863,\n        \"min\": 0.087,\n        \"max\": 0.151,\n        \"num_unique_values\": 4,\n        \"samples\": [\n          0.107,\n          0.087,\n          0.151\n        ],\n        \"semantic_type\": \"\",\n        \"description\": \"\"\n      }\n    },\n    {\n      \"column\": \"balance\",\n      \"properties\": {\n        \"dtype\": \"number\",\n        \"std\": 0.03344499616988999,\n        \"min\": 0.056,\n        \"max\": 0.165,\n        \"num_unique_values\": 6,\n        \"samples\": [\n          0.165,\n          0.082,\n          0.128\n        ],\n        \"semantic_type\": \"\",\n        \"description\": \"\"\n      }\n    },\n    {\n      \"column\": \"housing\",\n      \"properties\": {\n        \"dtype\": \"number\",\n        \"std\": 0.044731033770150495,\n        \"min\": 0.078,\n        \"max\": 0.168,\n        \"num_unique_values\": 2,\n        \"samples\": [\n          0.168,\n          0.078\n        ],\n        \"semantic_type\": \"\",\n        \"description\": \"\"\n      }\n    },\n    {\n      \"column\": \"loan\",\n      \"properties\": {\n        \"dtype\": \"number\",\n        \"std\": 0.02244232167428271,\n        \"min\": 0.067,\n        \"max\": 0.128,\n        \"num_unique_values\": 2,\n        \"samples\": [\n          0.067,\n          0.128\n        ],\n        \"semantic_type\": \"\",\n        \"description\": \"\"\n      }\n    },\n    {\n      \"column\": \"car\",\n      \"properties\": {\n        \"dtype\": \"number\",\n        \"std\": 0.02149205494128825,\n        \"min\": 0.102,\n        \"max\": 0.151,\n        \"num_unique_values\": 3,\n        \"samples\": [\n          0.102,\n          0.151\n        ],\n        \"semantic_type\": \"\",\n        \"description\": \"\"\n      }\n    },\n    {\n      \"column\": \"contact\",\n      \"properties\": {\n        \"dtype\": \"number\",\n        \"std\": 0.04876234887490344,\n        \"min\": 0.041,\n        \"max\": 0.15,\n        \"num_unique_values\": 3,\n        \"samples\": [\n          0.041,\n          0.15\n        ],\n        \"semantic_type\": \"\",\n        \"description\": \"\"\n      }\n    },\n    {\n      \"column\": \"day\",\n      \"properties\": {\n        \"dtype\": \"number\",\n        \"std\": 8,\n        \"min\": 1,\n        \"max\": 31,\n        \"num_unique_values\": 31,\n        \"samples\": [\n          1,\n          27\n        ],\n        \"semantic_type\": \"\",\n        \"description\": \"\"\n      }\n    },\n    {\n      \"column\": \"month\",\n      \"properties\": {\n        \"dtype\": \"number\",\n        \"std\": 0.08360558889474806,\n        \"min\": 0.068,\n        \"max\": 0.521,\n        \"num_unique_values\": 10,\n        \"samples\": [\n          0.197,\n          0.103\n        ],\n        \"semantic_type\": \"\",\n        \"description\": \"\"\n      }\n    },\n    {\n      \"column\": \"duration\",\n      \"properties\": {\n        \"dtype\": \"number\",\n        \"std\": 0.011208747446713912,\n        \"min\": 0.0,\n        \"max\": 0.119,\n        \"num_unique_values\": 3,\n        \"samples\": [\n          0.119,\n          0.0\n        ],\n        \"semantic_type\": \"\",\n        \"description\": \"\"\n      }\n    },\n    {\n      \"column\": \"campaign\",\n      \"properties\": {\n        \"dtype\": \"number\",\n        \"std\": 3,\n        \"min\": 1,\n        \"max\": 63,\n        \"num_unique_values\": 48,\n        \"samples\": [\n          41,\n          27\n        ],\n        \"semantic_type\": \"\",\n        \"description\": \"\"\n      }\n    },\n    {\n      \"column\": \"previous\",\n      \"properties\": {\n        \"dtype\": \"number\",\n        \"std\": 0,\n        \"min\": 0,\n        \"max\": 1,\n        \"num_unique_values\": 2,\n        \"samples\": [\n          1,\n          0\n        ],\n        \"semantic_type\": \"\",\n        \"description\": \"\"\n      }\n    },\n    {\n      \"column\": \"poutcome\",\n      \"properties\": {\n        \"dtype\": \"number\",\n        \"std\": 0.10002468293883428,\n        \"min\": 0.093,\n        \"max\": 0.646,\n        \"num_unique_values\": 4,\n        \"samples\": [\n          0.127,\n          0.646\n        ],\n        \"semantic_type\": \"\",\n        \"description\": \"\"\n      }\n    },\n    {\n      \"column\": \"subscribed\",\n      \"properties\": {\n        \"dtype\": \"number\",\n        \"std\": 0,\n        \"min\": 0,\n        \"max\": 1,\n        \"num_unique_values\": 2,\n        \"samples\": [\n          1,\n          0\n        ],\n        \"semantic_type\": \"\",\n        \"description\": \"\"\n      }\n    },\n    {\n      \"column\": \"dia_semana\",\n      \"properties\": {\n        \"dtype\": \"number\",\n        \"std\": 0.039772640651289014,\n        \"min\": 0.065,\n        \"max\": 0.225,\n        \"num_unique_values\": 7,\n        \"samples\": [\n          0.122,\n          0.115\n        ],\n        \"semantic_type\": \"\",\n        \"description\": \"\"\n      }\n    }\n  ]\n}"
            }
          },
          "metadata": {},
          "execution_count": 6
        }
      ]
    },
    {
      "cell_type": "code",
      "execution_count": null,
      "metadata": {
        "id": "OG-pWEBuWWLi"
      },
      "outputs": [],
      "source": [
        "X=data_sin.drop('subscribed',axis=1)\n",
        "y=data_sin['subscribed']\n",
        "X_train,X_test,y_train,y_test=train_test_split(X,y,test_size=.2,random_state=0,shuffle=True)"
      ]
    },
    {
      "cell_type": "code",
      "source": [
        "from sklearn.preprocessing import StandardScaler\n",
        "scaler = StandardScaler()\n",
        "X_train_scaled = scaler.fit_transform(X_train)\n",
        "X_test_scaled = scaler.transform(X_test)"
      ],
      "metadata": {
        "id": "quNHX8CgaYVG"
      },
      "execution_count": null,
      "outputs": []
    },
    {
      "cell_type": "markdown",
      "source": [
        "# Modelo 1"
      ],
      "metadata": {
        "id": "hcsQ4CDvkF5e"
      }
    },
    {
      "cell_type": "code",
      "execution_count": null,
      "metadata": {
        "id": "aSOXYWSxWWLj"
      },
      "outputs": [],
      "source": [
        "from keras.models import Sequential\n",
        "from keras.layers import Dense\n",
        "\n",
        "# Crear el modelo\n",
        "model1 = Sequential()\n",
        "model1.add(Dense(64, input_shape=(X_train_scaled.shape[1],), activation='relu'))\n",
        "model1.add(Dense(32, activation='relu'))\n",
        "model1.add(Dense(1, activation='sigmoid'))  # Capa de salida para clasificación binaria\n",
        "\n",
        "# Compilar el modelo\n",
        "model1.compile(optimizer='adam', loss='binary_crossentropy', metrics=['accuracy'])"
      ]
    },
    {
      "cell_type": "code",
      "source": [
        "history = model1.fit(X_train_scaled, y_train, validation_split=0.2, epochs=100, batch_size=32, verbose=1)"
      ],
      "metadata": {
        "colab": {
          "base_uri": "https://localhost:8080/"
        },
        "id": "3mcSlxC3abEC",
        "outputId": "b9157b4f-565a-4629-deb8-d3b5c1d45a69"
      },
      "execution_count": null,
      "outputs": [
        {
          "output_type": "stream",
          "name": "stdout",
          "text": [
            "Epoch 1/100\n",
            "895/895 [==============================] - 3s 3ms/step - loss: 0.3148 - accuracy: 0.8868 - val_loss: 0.2923 - val_accuracy: 0.8948\n",
            "Epoch 2/100\n",
            "895/895 [==============================] - 2s 2ms/step - loss: 0.3005 - accuracy: 0.8919 - val_loss: 0.2916 - val_accuracy: 0.8948\n",
            "Epoch 3/100\n",
            "895/895 [==============================] - 2s 2ms/step - loss: 0.2973 - accuracy: 0.8912 - val_loss: 0.2899 - val_accuracy: 0.8943\n",
            "Epoch 4/100\n",
            "895/895 [==============================] - 2s 3ms/step - loss: 0.2959 - accuracy: 0.8924 - val_loss: 0.2890 - val_accuracy: 0.8952\n",
            "Epoch 5/100\n",
            "895/895 [==============================] - 3s 4ms/step - loss: 0.2942 - accuracy: 0.8937 - val_loss: 0.2902 - val_accuracy: 0.8943\n",
            "Epoch 6/100\n",
            "895/895 [==============================] - 2s 2ms/step - loss: 0.2936 - accuracy: 0.8940 - val_loss: 0.2890 - val_accuracy: 0.8948\n",
            "Epoch 7/100\n",
            "895/895 [==============================] - 2s 2ms/step - loss: 0.2923 - accuracy: 0.8930 - val_loss: 0.2910 - val_accuracy: 0.8918\n",
            "Epoch 8/100\n",
            "895/895 [==============================] - 2s 2ms/step - loss: 0.2915 - accuracy: 0.8938 - val_loss: 0.2887 - val_accuracy: 0.8969\n",
            "Epoch 9/100\n",
            "895/895 [==============================] - 2s 2ms/step - loss: 0.2905 - accuracy: 0.8935 - val_loss: 0.2894 - val_accuracy: 0.8955\n",
            "Epoch 10/100\n",
            "895/895 [==============================] - 3s 3ms/step - loss: 0.2897 - accuracy: 0.8938 - val_loss: 0.2912 - val_accuracy: 0.8963\n",
            "Epoch 11/100\n",
            "895/895 [==============================] - 3s 4ms/step - loss: 0.2885 - accuracy: 0.8941 - val_loss: 0.2884 - val_accuracy: 0.8956\n",
            "Epoch 12/100\n",
            "895/895 [==============================] - 2s 2ms/step - loss: 0.2873 - accuracy: 0.8950 - val_loss: 0.2896 - val_accuracy: 0.8956\n",
            "Epoch 13/100\n",
            "895/895 [==============================] - 2s 2ms/step - loss: 0.2867 - accuracy: 0.8957 - val_loss: 0.2890 - val_accuracy: 0.8950\n",
            "Epoch 14/100\n",
            "895/895 [==============================] - 2s 2ms/step - loss: 0.2861 - accuracy: 0.8953 - val_loss: 0.2887 - val_accuracy: 0.8945\n",
            "Epoch 15/100\n",
            "895/895 [==============================] - 2s 2ms/step - loss: 0.2848 - accuracy: 0.8950 - val_loss: 0.2953 - val_accuracy: 0.8950\n",
            "Epoch 16/100\n",
            "895/895 [==============================] - 3s 3ms/step - loss: 0.2847 - accuracy: 0.8957 - val_loss: 0.2889 - val_accuracy: 0.8945\n",
            "Epoch 17/100\n",
            "895/895 [==============================] - 3s 4ms/step - loss: 0.2837 - accuracy: 0.8954 - val_loss: 0.2912 - val_accuracy: 0.8945\n",
            "Epoch 18/100\n",
            "895/895 [==============================] - 2s 3ms/step - loss: 0.2824 - accuracy: 0.8968 - val_loss: 0.2897 - val_accuracy: 0.8927\n",
            "Epoch 19/100\n",
            "895/895 [==============================] - 2s 2ms/step - loss: 0.2815 - accuracy: 0.8964 - val_loss: 0.2930 - val_accuracy: 0.8914\n",
            "Epoch 20/100\n",
            "895/895 [==============================] - 2s 2ms/step - loss: 0.2809 - accuracy: 0.8971 - val_loss: 0.2916 - val_accuracy: 0.8910\n",
            "Epoch 21/100\n",
            "895/895 [==============================] - 4s 4ms/step - loss: 0.2797 - accuracy: 0.8977 - val_loss: 0.2921 - val_accuracy: 0.8922\n",
            "Epoch 22/100\n",
            "895/895 [==============================] - 6s 6ms/step - loss: 0.2792 - accuracy: 0.8977 - val_loss: 0.2924 - val_accuracy: 0.8936\n",
            "Epoch 23/100\n",
            "895/895 [==============================] - 5s 5ms/step - loss: 0.2784 - accuracy: 0.8976 - val_loss: 0.2937 - val_accuracy: 0.8936\n",
            "Epoch 24/100\n",
            "895/895 [==============================] - 4s 5ms/step - loss: 0.2773 - accuracy: 0.8988 - val_loss: 0.2947 - val_accuracy: 0.8932\n",
            "Epoch 25/100\n",
            "895/895 [==============================] - 2s 2ms/step - loss: 0.2770 - accuracy: 0.8981 - val_loss: 0.2971 - val_accuracy: 0.8925\n",
            "Epoch 26/100\n",
            "895/895 [==============================] - 2s 2ms/step - loss: 0.2763 - accuracy: 0.8986 - val_loss: 0.2974 - val_accuracy: 0.8890\n",
            "Epoch 27/100\n",
            "895/895 [==============================] - 2s 2ms/step - loss: 0.2754 - accuracy: 0.8987 - val_loss: 0.2965 - val_accuracy: 0.8911\n",
            "Epoch 28/100\n",
            "895/895 [==============================] - 2s 2ms/step - loss: 0.2747 - accuracy: 0.9000 - val_loss: 0.2966 - val_accuracy: 0.8911\n",
            "Epoch 29/100\n",
            "895/895 [==============================] - 3s 3ms/step - loss: 0.2743 - accuracy: 0.8991 - val_loss: 0.2936 - val_accuracy: 0.8920\n",
            "Epoch 30/100\n",
            "895/895 [==============================] - 3s 3ms/step - loss: 0.2732 - accuracy: 0.8988 - val_loss: 0.2957 - val_accuracy: 0.8924\n",
            "Epoch 31/100\n",
            "895/895 [==============================] - 2s 2ms/step - loss: 0.2721 - accuracy: 0.9002 - val_loss: 0.2970 - val_accuracy: 0.8901\n",
            "Epoch 32/100\n",
            "895/895 [==============================] - 2s 2ms/step - loss: 0.2720 - accuracy: 0.8992 - val_loss: 0.2984 - val_accuracy: 0.8921\n",
            "Epoch 33/100\n",
            "895/895 [==============================] - 2s 2ms/step - loss: 0.2716 - accuracy: 0.9003 - val_loss: 0.2973 - val_accuracy: 0.8897\n",
            "Epoch 34/100\n",
            "895/895 [==============================] - 2s 2ms/step - loss: 0.2703 - accuracy: 0.9004 - val_loss: 0.2984 - val_accuracy: 0.8893\n",
            "Epoch 35/100\n",
            "895/895 [==============================] - 3s 3ms/step - loss: 0.2700 - accuracy: 0.9014 - val_loss: 0.2973 - val_accuracy: 0.8927\n",
            "Epoch 36/100\n",
            "895/895 [==============================] - 3s 3ms/step - loss: 0.2689 - accuracy: 0.9013 - val_loss: 0.2971 - val_accuracy: 0.8917\n",
            "Epoch 37/100\n",
            "895/895 [==============================] - 2s 2ms/step - loss: 0.2677 - accuracy: 0.9015 - val_loss: 0.3001 - val_accuracy: 0.8910\n",
            "Epoch 38/100\n",
            "895/895 [==============================] - 2s 2ms/step - loss: 0.2681 - accuracy: 0.8998 - val_loss: 0.2973 - val_accuracy: 0.8913\n",
            "Epoch 39/100\n",
            "895/895 [==============================] - 2s 2ms/step - loss: 0.2668 - accuracy: 0.9010 - val_loss: 0.3015 - val_accuracy: 0.8900\n",
            "Epoch 40/100\n",
            "895/895 [==============================] - 2s 2ms/step - loss: 0.2661 - accuracy: 0.9007 - val_loss: 0.3005 - val_accuracy: 0.8896\n",
            "Epoch 41/100\n",
            "895/895 [==============================] - 3s 3ms/step - loss: 0.2654 - accuracy: 0.9017 - val_loss: 0.3019 - val_accuracy: 0.8892\n",
            "Epoch 42/100\n",
            "895/895 [==============================] - 2s 3ms/step - loss: 0.2659 - accuracy: 0.9002 - val_loss: 0.3015 - val_accuracy: 0.8913\n",
            "Epoch 43/100\n",
            "895/895 [==============================] - 2s 2ms/step - loss: 0.2644 - accuracy: 0.9020 - val_loss: 0.3010 - val_accuracy: 0.8904\n",
            "Epoch 44/100\n",
            "895/895 [==============================] - 2s 2ms/step - loss: 0.2643 - accuracy: 0.9025 - val_loss: 0.3034 - val_accuracy: 0.8894\n",
            "Epoch 45/100\n",
            "895/895 [==============================] - 2s 2ms/step - loss: 0.2632 - accuracy: 0.9027 - val_loss: 0.3041 - val_accuracy: 0.8892\n",
            "Epoch 46/100\n",
            "895/895 [==============================] - 2s 2ms/step - loss: 0.2630 - accuracy: 0.9029 - val_loss: 0.3037 - val_accuracy: 0.8883\n",
            "Epoch 47/100\n",
            "895/895 [==============================] - 3s 3ms/step - loss: 0.2621 - accuracy: 0.9029 - val_loss: 0.3034 - val_accuracy: 0.8892\n",
            "Epoch 48/100\n",
            "895/895 [==============================] - 3s 3ms/step - loss: 0.2616 - accuracy: 0.9027 - val_loss: 0.3040 - val_accuracy: 0.8906\n",
            "Epoch 49/100\n",
            "895/895 [==============================] - 2s 2ms/step - loss: 0.2605 - accuracy: 0.9036 - val_loss: 0.3095 - val_accuracy: 0.8896\n",
            "Epoch 50/100\n",
            "895/895 [==============================] - 2s 2ms/step - loss: 0.2611 - accuracy: 0.9032 - val_loss: 0.3062 - val_accuracy: 0.8899\n",
            "Epoch 51/100\n",
            "895/895 [==============================] - 2s 2ms/step - loss: 0.2597 - accuracy: 0.9033 - val_loss: 0.3035 - val_accuracy: 0.8882\n",
            "Epoch 52/100\n",
            "895/895 [==============================] - 2s 2ms/step - loss: 0.2598 - accuracy: 0.9030 - val_loss: 0.3055 - val_accuracy: 0.8908\n",
            "Epoch 53/100\n",
            "895/895 [==============================] - 3s 4ms/step - loss: 0.2591 - accuracy: 0.9032 - val_loss: 0.3067 - val_accuracy: 0.8868\n",
            "Epoch 54/100\n",
            "895/895 [==============================] - 2s 3ms/step - loss: 0.2581 - accuracy: 0.9038 - val_loss: 0.3073 - val_accuracy: 0.8881\n",
            "Epoch 55/100\n",
            "895/895 [==============================] - 2s 2ms/step - loss: 0.2580 - accuracy: 0.9039 - val_loss: 0.3080 - val_accuracy: 0.8881\n",
            "Epoch 56/100\n",
            "895/895 [==============================] - 2s 2ms/step - loss: 0.2574 - accuracy: 0.9048 - val_loss: 0.3088 - val_accuracy: 0.8882\n",
            "Epoch 57/100\n",
            "895/895 [==============================] - 2s 2ms/step - loss: 0.2565 - accuracy: 0.9040 - val_loss: 0.3065 - val_accuracy: 0.8903\n",
            "Epoch 58/100\n",
            "895/895 [==============================] - 2s 2ms/step - loss: 0.2565 - accuracy: 0.9054 - val_loss: 0.3099 - val_accuracy: 0.8890\n",
            "Epoch 59/100\n",
            "895/895 [==============================] - 3s 4ms/step - loss: 0.2561 - accuracy: 0.9066 - val_loss: 0.3103 - val_accuracy: 0.8874\n",
            "Epoch 60/100\n",
            "895/895 [==============================] - 2s 3ms/step - loss: 0.2560 - accuracy: 0.9051 - val_loss: 0.3096 - val_accuracy: 0.8881\n",
            "Epoch 61/100\n",
            "895/895 [==============================] - 2s 2ms/step - loss: 0.2550 - accuracy: 0.9060 - val_loss: 0.3109 - val_accuracy: 0.8889\n",
            "Epoch 62/100\n",
            "895/895 [==============================] - 2s 2ms/step - loss: 0.2546 - accuracy: 0.9055 - val_loss: 0.3114 - val_accuracy: 0.8850\n",
            "Epoch 63/100\n",
            "895/895 [==============================] - 2s 2ms/step - loss: 0.2546 - accuracy: 0.9053 - val_loss: 0.3118 - val_accuracy: 0.8878\n",
            "Epoch 64/100\n",
            "895/895 [==============================] - 2s 3ms/step - loss: 0.2539 - accuracy: 0.9063 - val_loss: 0.3123 - val_accuracy: 0.8862\n",
            "Epoch 65/100\n",
            "895/895 [==============================] - 3s 3ms/step - loss: 0.2539 - accuracy: 0.9058 - val_loss: 0.3133 - val_accuracy: 0.8872\n",
            "Epoch 66/100\n",
            "895/895 [==============================] - 2s 2ms/step - loss: 0.2525 - accuracy: 0.9053 - val_loss: 0.3125 - val_accuracy: 0.8837\n",
            "Epoch 67/100\n",
            "895/895 [==============================] - 2s 2ms/step - loss: 0.2518 - accuracy: 0.9059 - val_loss: 0.3160 - val_accuracy: 0.8872\n",
            "Epoch 68/100\n",
            "895/895 [==============================] - 2s 2ms/step - loss: 0.2514 - accuracy: 0.9076 - val_loss: 0.3246 - val_accuracy: 0.8809\n",
            "Epoch 69/100\n",
            "895/895 [==============================] - 3s 3ms/step - loss: 0.2523 - accuracy: 0.9061 - val_loss: 0.3130 - val_accuracy: 0.8857\n",
            "Epoch 70/100\n",
            "895/895 [==============================] - 3s 3ms/step - loss: 0.2514 - accuracy: 0.9069 - val_loss: 0.3154 - val_accuracy: 0.8872\n",
            "Epoch 71/100\n",
            "895/895 [==============================] - 2s 3ms/step - loss: 0.2507 - accuracy: 0.9073 - val_loss: 0.3166 - val_accuracy: 0.8868\n",
            "Epoch 72/100\n",
            "895/895 [==============================] - 2s 2ms/step - loss: 0.2502 - accuracy: 0.9070 - val_loss: 0.3113 - val_accuracy: 0.8869\n",
            "Epoch 73/100\n",
            "895/895 [==============================] - 2s 2ms/step - loss: 0.2506 - accuracy: 0.9070 - val_loss: 0.3165 - val_accuracy: 0.8837\n",
            "Epoch 74/100\n",
            "895/895 [==============================] - 2s 2ms/step - loss: 0.2496 - accuracy: 0.9066 - val_loss: 0.3149 - val_accuracy: 0.8861\n",
            "Epoch 75/100\n",
            "895/895 [==============================] - 2s 2ms/step - loss: 0.2493 - accuracy: 0.9066 - val_loss: 0.3159 - val_accuracy: 0.8885\n",
            "Epoch 76/100\n",
            "895/895 [==============================] - 3s 4ms/step - loss: 0.2495 - accuracy: 0.9071 - val_loss: 0.3159 - val_accuracy: 0.8868\n",
            "Epoch 77/100\n",
            "895/895 [==============================] - 2s 3ms/step - loss: 0.2486 - accuracy: 0.9075 - val_loss: 0.3159 - val_accuracy: 0.8886\n",
            "Epoch 78/100\n",
            "895/895 [==============================] - 2s 2ms/step - loss: 0.2477 - accuracy: 0.9084 - val_loss: 0.3182 - val_accuracy: 0.8848\n",
            "Epoch 79/100\n",
            "895/895 [==============================] - 2s 2ms/step - loss: 0.2484 - accuracy: 0.9063 - val_loss: 0.3214 - val_accuracy: 0.8843\n",
            "Epoch 80/100\n",
            "895/895 [==============================] - 2s 2ms/step - loss: 0.2476 - accuracy: 0.9079 - val_loss: 0.3192 - val_accuracy: 0.8850\n",
            "Epoch 81/100\n",
            "895/895 [==============================] - 2s 3ms/step - loss: 0.2469 - accuracy: 0.9087 - val_loss: 0.3159 - val_accuracy: 0.8881\n",
            "Epoch 82/100\n",
            "895/895 [==============================] - 3s 4ms/step - loss: 0.2468 - accuracy: 0.9075 - val_loss: 0.3191 - val_accuracy: 0.8853\n",
            "Epoch 83/100\n",
            "895/895 [==============================] - 2s 2ms/step - loss: 0.2462 - accuracy: 0.9081 - val_loss: 0.3210 - val_accuracy: 0.8860\n",
            "Epoch 84/100\n",
            "895/895 [==============================] - 2s 2ms/step - loss: 0.2464 - accuracy: 0.9077 - val_loss: 0.3296 - val_accuracy: 0.8804\n",
            "Epoch 85/100\n",
            "895/895 [==============================] - 2s 2ms/step - loss: 0.2455 - accuracy: 0.9099 - val_loss: 0.3192 - val_accuracy: 0.8841\n",
            "Epoch 86/100\n",
            "895/895 [==============================] - 2s 2ms/step - loss: 0.2452 - accuracy: 0.9080 - val_loss: 0.3179 - val_accuracy: 0.8900\n",
            "Epoch 87/100\n",
            "895/895 [==============================] - 2s 3ms/step - loss: 0.2458 - accuracy: 0.9077 - val_loss: 0.3209 - val_accuracy: 0.8839\n",
            "Epoch 88/100\n",
            "895/895 [==============================] - 3s 3ms/step - loss: 0.2446 - accuracy: 0.9084 - val_loss: 0.3192 - val_accuracy: 0.8823\n",
            "Epoch 89/100\n",
            "895/895 [==============================] - 2s 2ms/step - loss: 0.2440 - accuracy: 0.9097 - val_loss: 0.3235 - val_accuracy: 0.8836\n",
            "Epoch 90/100\n",
            "895/895 [==============================] - 2s 2ms/step - loss: 0.2439 - accuracy: 0.9089 - val_loss: 0.3263 - val_accuracy: 0.8847\n",
            "Epoch 91/100\n",
            "895/895 [==============================] - 2s 2ms/step - loss: 0.2443 - accuracy: 0.9089 - val_loss: 0.3212 - val_accuracy: 0.8876\n",
            "Epoch 92/100\n",
            "895/895 [==============================] - 2s 2ms/step - loss: 0.2433 - accuracy: 0.9093 - val_loss: 0.3207 - val_accuracy: 0.8840\n",
            "Epoch 93/100\n",
            "895/895 [==============================] - 3s 3ms/step - loss: 0.2432 - accuracy: 0.9092 - val_loss: 0.3275 - val_accuracy: 0.8819\n",
            "Epoch 94/100\n",
            "895/895 [==============================] - 3s 3ms/step - loss: 0.2429 - accuracy: 0.9086 - val_loss: 0.3243 - val_accuracy: 0.8832\n",
            "Epoch 95/100\n",
            "895/895 [==============================] - 2s 2ms/step - loss: 0.2418 - accuracy: 0.9100 - val_loss: 0.3231 - val_accuracy: 0.8851\n",
            "Epoch 96/100\n",
            "895/895 [==============================] - 2s 2ms/step - loss: 0.2424 - accuracy: 0.9103 - val_loss: 0.3239 - val_accuracy: 0.8844\n",
            "Epoch 97/100\n",
            "895/895 [==============================] - 2s 2ms/step - loss: 0.2418 - accuracy: 0.9092 - val_loss: 0.3237 - val_accuracy: 0.8851\n",
            "Epoch 98/100\n",
            "895/895 [==============================] - 2s 2ms/step - loss: 0.2413 - accuracy: 0.9092 - val_loss: 0.3275 - val_accuracy: 0.8830\n",
            "Epoch 99/100\n",
            "895/895 [==============================] - 3s 3ms/step - loss: 0.2413 - accuracy: 0.9099 - val_loss: 0.3301 - val_accuracy: 0.8864\n",
            "Epoch 100/100\n",
            "895/895 [==============================] - 3s 3ms/step - loss: 0.2408 - accuracy: 0.9103 - val_loss: 0.3300 - val_accuracy: 0.8848\n"
          ]
        }
      ]
    },
    {
      "cell_type": "code",
      "source": [
        "loss, accuracy = model1.evaluate(X_test_scaled, y_test)\n",
        "print(f'Accuracy: {accuracy*100:.2f}%')"
      ],
      "metadata": {
        "colab": {
          "base_uri": "https://localhost:8080/"
        },
        "id": "JyXOS-4UbA7i",
        "outputId": "9f0d5be9-7397-4ab8-f56b-4073f1d89d79"
      },
      "execution_count": null,
      "outputs": [
        {
          "output_type": "stream",
          "name": "stdout",
          "text": [
            "280/280 [==============================] - 0s 2ms/step - loss: 0.3468 - accuracy: 0.8809\n",
            "Accuracy: 88.09%\n"
          ]
        }
      ]
    },
    {
      "cell_type": "code",
      "source": [
        "import matplotlib.pyplot as plt\n",
        "\n",
        "# Sumarizar el historial para la precisión\n",
        "plt.plot(history.history['accuracy'])\n",
        "plt.plot(history.history['val_accuracy'])\n",
        "plt.title('Model Accuracy')\n",
        "plt.ylabel('Accuracy')\n",
        "plt.xlabel('Epoch')\n",
        "plt.legend(['Train', 'Validation'], loc='upper left')\n",
        "plt.show()"
      ],
      "metadata": {
        "colab": {
          "base_uri": "https://localhost:8080/",
          "height": 472
        },
        "id": "WbnX7LWIbDZX",
        "outputId": "2d62197a-4607-4ec1-84d9-1842fd021596"
      },
      "execution_count": null,
      "outputs": [
        {
          "output_type": "display_data",
          "data": {
            "text/plain": [
              "<Figure size 640x480 with 1 Axes>"
            ],
            "image/png": "[encoded data removed]"
          },
          "metadata": {}
        }
      ]
    },
    {
      "cell_type": "markdown",
      "source": [
        "Precisión en Entrenamiento: La línea azul, que representa la precisión en el conjunto de entrenamiento, muestra un aumento constante a lo largo de las épocas, lo cual indica que el modelo está aprendiendo efectivamente de los datos de entrenamiento. Esto es positivo ya que sugiere una buena capacidad del modelo para adaptarse a los datos.\n"
      ],
      "metadata": {
        "id": "_dLgS5e4icsL"
      }
    },
    {
      "cell_type": "markdown",
      "source": [
        "Precisión en Validación: La línea naranja, que muestra la precisión en el conjunto de validación, es bastante volátil y generalmente más baja que la precisión del conjunto de entrenamiento. Esto podría indicar un problema de sobreajuste, donde el modelo aprende detalles específicos del conjunto de entrenamiento que no generalizan bien al conjunto de validación."
      ],
      "metadata": {
        "id": "Su6A-stKifma"
      }
    },
    {
      "cell_type": "code",
      "source": [
        "# Sumarizar el historial para la pérdida\n",
        "plt.plot(history.history['loss'])\n",
        "plt.plot(history.history['val_loss'])\n",
        "plt.title('Model Loss')\n",
        "plt.ylabel('Loss')\n",
        "plt.xlabel('Epoch')\n",
        "plt.legend(['Train', 'Validation'], loc='upper left')\n",
        "plt.show()"
      ],
      "metadata": {
        "colab": {
          "base_uri": "https://localhost:8080/",
          "height": 472
        },
        "id": "K56-2p8VijLl",
        "outputId": "7ef06d1e-1410-46ba-cf42-fdae4be61f50"
      },
      "execution_count": null,
      "outputs": [
        {
          "output_type": "display_data",
          "data": {
            "text/plain": [
              "<Figure size 640x480 with 1 Axes>"
            ],
            "image/png": "[encoded data removed]"
          },
          "metadata": {}
        }
      ]
    },
    {
      "cell_type": "markdown",
      "source": [
        "Pérdida en Entrenamiento: La línea azul indica que la pérdida en el conjunto de entrenamiento disminuye de manera constante, lo cual es un signo de que el modelo está aprendiendo adecuadamente de los datos de entrenamiento."
      ],
      "metadata": {
        "id": "Pp9a5b4Simy4"
      }
    },
    {
      "cell_type": "markdown",
      "source": [
        "Pérdida en Validación: La línea naranja muestra un incremento constante en la pérdida del conjunto de validación a partir de aproximadamente la época 20, lo que sugiere que el modelo comienza a desempeñarse peor en los datos de validación conforme avanza el entrenamiento. Esto es un claro indicativo de sobreajuste."
      ],
      "metadata": {
        "id": "mZfLPpuBipYN"
      }
    },
    {
      "cell_type": "markdown",
      "source": [
        "# Modelo 2"
      ],
      "metadata": {
        "id": "3R6VVmmdmEo2"
      }
    },
    {
      "cell_type": "code",
      "source": [
        "from keras.layers import Dropout\n",
        "from keras.regularizers import l2\n",
        "\n",
        "# Crear el modelo con regularización L2 y Dropout\n",
        "model2 = Sequential()\n",
        "model2.add(Dense(64, input_shape=(X_train_scaled.shape[1],), activation='relu', kernel_regularizer=l2(0.01)))\n",
        "model2.add(Dropout(0.5))\n",
        "model2.add(Dense(32, activation='relu', kernel_regularizer=l2(0.01)))\n",
        "model2.add(Dropout(0.5))\n",
        "model2.add(Dense(1, activation='sigmoid'))"
      ],
      "metadata": {
        "id": "fJuj8Gj3mFYY"
      },
      "execution_count": null,
      "outputs": []
    },
    {
      "cell_type": "code",
      "source": [
        "from keras.optimizers import Adam\n",
        "\n",
        "# Configurar el optimizador con una tasa de aprendizaje personalizada\n",
        "optimizer = Adam(learning_rate=0.0001)  # Reducir la tasa de aprendizaje"
      ],
      "metadata": {
        "id": "_aoSZXg9mGyk"
      },
      "execution_count": null,
      "outputs": []
    },
    {
      "cell_type": "code",
      "source": [
        "model2.compile(optimizer=optimizer, loss='binary_crossentropy', metrics=['accuracy'])"
      ],
      "metadata": {
        "id": "N2juiHXwmNJL"
      },
      "execution_count": null,
      "outputs": []
    },
    {
      "cell_type": "code",
      "source": [
        "# Entrenar el modelo con un tamaño de lote diferente\n",
        "history = model2.fit(X_train_scaled, y_train, validation_split=0.2, epochs=100, batch_size=64, verbose=1)"
      ],
      "metadata": {
        "colab": {
          "base_uri": "https://localhost:8080/"
        },
        "id": "M56CtnTAmSd_",
        "outputId": "e5b11341-7bc4-4994-90fc-eab99830db17"
      },
      "execution_count": null,
      "outputs": [
        {
          "output_type": "stream",
          "name": "stdout",
          "text": [
            "Epoch 1/100\n",
            "448/448 [==============================] - 2s 3ms/step - loss: 1.1917 - accuracy: 0.7441 - val_loss: 0.9557 - val_accuracy: 0.8841\n",
            "Epoch 2/100\n",
            "448/448 [==============================] - 1s 3ms/step - loss: 0.9382 - accuracy: 0.8685 - val_loss: 0.8041 - val_accuracy: 0.8846\n",
            "Epoch 3/100\n",
            "448/448 [==============================] - 1s 3ms/step - loss: 0.8101 - accuracy: 0.8798 - val_loss: 0.6978 - val_accuracy: 0.8872\n",
            "Epoch 4/100\n",
            "448/448 [==============================] - 1s 3ms/step - loss: 0.7057 - accuracy: 0.8825 - val_loss: 0.6141 - val_accuracy: 0.8925\n",
            "Epoch 5/100\n",
            "448/448 [==============================] - 1s 3ms/step - loss: 0.6247 - accuracy: 0.8852 - val_loss: 0.5480 - val_accuracy: 0.8939\n",
            "Epoch 6/100\n",
            "448/448 [==============================] - 2s 4ms/step - loss: 0.5607 - accuracy: 0.8867 - val_loss: 0.4956 - val_accuracy: 0.8948\n",
            "Epoch 7/100\n",
            "448/448 [==============================] - 2s 4ms/step - loss: 0.5092 - accuracy: 0.8860 - val_loss: 0.4541 - val_accuracy: 0.8948\n",
            "Epoch 8/100\n",
            "448/448 [==============================] - 1s 3ms/step - loss: 0.4691 - accuracy: 0.8864 - val_loss: 0.4215 - val_accuracy: 0.8949\n",
            "Epoch 9/100\n",
            "448/448 [==============================] - 1s 3ms/step - loss: 0.4374 - accuracy: 0.8869 - val_loss: 0.3961 - val_accuracy: 0.8953\n",
            "Epoch 10/100\n",
            "448/448 [==============================] - 1s 3ms/step - loss: 0.4133 - accuracy: 0.8873 - val_loss: 0.3761 - val_accuracy: 0.8949\n",
            "Epoch 11/100\n",
            "448/448 [==============================] - 1s 3ms/step - loss: 0.3939 - accuracy: 0.8876 - val_loss: 0.3608 - val_accuracy: 0.8949\n",
            "Epoch 12/100\n",
            "448/448 [==============================] - 1s 3ms/step - loss: 0.3783 - accuracy: 0.8873 - val_loss: 0.3487 - val_accuracy: 0.8945\n",
            "Epoch 13/100\n",
            "448/448 [==============================] - 1s 3ms/step - loss: 0.3677 - accuracy: 0.8883 - val_loss: 0.3396 - val_accuracy: 0.8942\n",
            "Epoch 14/100\n",
            "448/448 [==============================] - 1s 3ms/step - loss: 0.3563 - accuracy: 0.8885 - val_loss: 0.3322 - val_accuracy: 0.8948\n",
            "Epoch 15/100\n",
            "448/448 [==============================] - 1s 3ms/step - loss: 0.3508 - accuracy: 0.8896 - val_loss: 0.3267 - val_accuracy: 0.8939\n",
            "Epoch 16/100\n",
            "448/448 [==============================] - 2s 3ms/step - loss: 0.3437 - accuracy: 0.8883 - val_loss: 0.3222 - val_accuracy: 0.8939\n",
            "Epoch 17/100\n",
            "448/448 [==============================] - 2s 4ms/step - loss: 0.3402 - accuracy: 0.8887 - val_loss: 0.3188 - val_accuracy: 0.8934\n",
            "Epoch 18/100\n",
            "448/448 [==============================] - 1s 3ms/step - loss: 0.3354 - accuracy: 0.8892 - val_loss: 0.3159 - val_accuracy: 0.8935\n",
            "Epoch 19/100\n",
            "448/448 [==============================] - 1s 2ms/step - loss: 0.3338 - accuracy: 0.8894 - val_loss: 0.3138 - val_accuracy: 0.8938\n",
            "Epoch 20/100\n",
            "448/448 [==============================] - 1s 3ms/step - loss: 0.3304 - accuracy: 0.8883 - val_loss: 0.3119 - val_accuracy: 0.8932\n",
            "Epoch 21/100\n",
            "448/448 [==============================] - 1s 3ms/step - loss: 0.3296 - accuracy: 0.8895 - val_loss: 0.3106 - val_accuracy: 0.8938\n",
            "Epoch 22/100\n",
            "448/448 [==============================] - 2s 4ms/step - loss: 0.3283 - accuracy: 0.8894 - val_loss: 0.3099 - val_accuracy: 0.8931\n",
            "Epoch 23/100\n",
            "448/448 [==============================] - 1s 3ms/step - loss: 0.3269 - accuracy: 0.8904 - val_loss: 0.3089 - val_accuracy: 0.8925\n",
            "Epoch 24/100\n",
            "448/448 [==============================] - 1s 3ms/step - loss: 0.3275 - accuracy: 0.8893 - val_loss: 0.3083 - val_accuracy: 0.8915\n",
            "Epoch 25/100\n",
            "448/448 [==============================] - 1s 3ms/step - loss: 0.3263 - accuracy: 0.8894 - val_loss: 0.3078 - val_accuracy: 0.8914\n",
            "Epoch 26/100\n",
            "448/448 [==============================] - 2s 4ms/step - loss: 0.3252 - accuracy: 0.8895 - val_loss: 0.3075 - val_accuracy: 0.8914\n",
            "Epoch 27/100\n",
            "448/448 [==============================] - 2s 5ms/step - loss: 0.3245 - accuracy: 0.8890 - val_loss: 0.3071 - val_accuracy: 0.8925\n",
            "Epoch 28/100\n",
            "448/448 [==============================] - 1s 3ms/step - loss: 0.3253 - accuracy: 0.8881 - val_loss: 0.3067 - val_accuracy: 0.8931\n",
            "Epoch 29/100\n",
            "448/448 [==============================] - 1s 3ms/step - loss: 0.3249 - accuracy: 0.8889 - val_loss: 0.3064 - val_accuracy: 0.8920\n",
            "Epoch 30/100\n",
            "448/448 [==============================] - 1s 3ms/step - loss: 0.3229 - accuracy: 0.8899 - val_loss: 0.3062 - val_accuracy: 0.8931\n",
            "Epoch 31/100\n",
            "448/448 [==============================] - 1s 3ms/step - loss: 0.3247 - accuracy: 0.8895 - val_loss: 0.3061 - val_accuracy: 0.8932\n",
            "Epoch 32/100\n",
            "448/448 [==============================] - 1s 3ms/step - loss: 0.3221 - accuracy: 0.8899 - val_loss: 0.3059 - val_accuracy: 0.8929\n",
            "Epoch 33/100\n",
            "448/448 [==============================] - 1s 3ms/step - loss: 0.3238 - accuracy: 0.8888 - val_loss: 0.3059 - val_accuracy: 0.8918\n",
            "Epoch 34/100\n",
            "448/448 [==============================] - 1s 3ms/step - loss: 0.3213 - accuracy: 0.8888 - val_loss: 0.3057 - val_accuracy: 0.8929\n",
            "Epoch 35/100\n",
            "448/448 [==============================] - 2s 4ms/step - loss: 0.3224 - accuracy: 0.8883 - val_loss: 0.3056 - val_accuracy: 0.8914\n",
            "Epoch 36/100\n",
            "448/448 [==============================] - 2s 4ms/step - loss: 0.3233 - accuracy: 0.8888 - val_loss: 0.3056 - val_accuracy: 0.8913\n",
            "Epoch 37/100\n",
            "448/448 [==============================] - 1s 3ms/step - loss: 0.3208 - accuracy: 0.8892 - val_loss: 0.3053 - val_accuracy: 0.8913\n",
            "Epoch 38/100\n",
            "448/448 [==============================] - 1s 3ms/step - loss: 0.3203 - accuracy: 0.8903 - val_loss: 0.3052 - val_accuracy: 0.8918\n",
            "Epoch 39/100\n",
            "448/448 [==============================] - 1s 3ms/step - loss: 0.3225 - accuracy: 0.8888 - val_loss: 0.3053 - val_accuracy: 0.8932\n",
            "Epoch 40/100\n",
            "448/448 [==============================] - 1s 3ms/step - loss: 0.3206 - accuracy: 0.8892 - val_loss: 0.3051 - val_accuracy: 0.8917\n",
            "Epoch 41/100\n",
            "448/448 [==============================] - 1s 3ms/step - loss: 0.3214 - accuracy: 0.8890 - val_loss: 0.3051 - val_accuracy: 0.8920\n",
            "Epoch 42/100\n",
            "448/448 [==============================] - 1s 3ms/step - loss: 0.3207 - accuracy: 0.8894 - val_loss: 0.3050 - val_accuracy: 0.8917\n",
            "Epoch 43/100\n",
            "448/448 [==============================] - 1s 3ms/step - loss: 0.3232 - accuracy: 0.8889 - val_loss: 0.3052 - val_accuracy: 0.8915\n",
            "Epoch 44/100\n",
            "448/448 [==============================] - 2s 3ms/step - loss: 0.3213 - accuracy: 0.8893 - val_loss: 0.3049 - val_accuracy: 0.8921\n",
            "Epoch 45/100\n",
            "448/448 [==============================] - 2s 4ms/step - loss: 0.3221 - accuracy: 0.8889 - val_loss: 0.3048 - val_accuracy: 0.8918\n",
            "Epoch 46/100\n",
            "448/448 [==============================] - 2s 4ms/step - loss: 0.3219 - accuracy: 0.8900 - val_loss: 0.3048 - val_accuracy: 0.8917\n",
            "Epoch 47/100\n",
            "448/448 [==============================] - 1s 3ms/step - loss: 0.3197 - accuracy: 0.8892 - val_loss: 0.3046 - val_accuracy: 0.8914\n",
            "Epoch 48/100\n",
            "448/448 [==============================] - 1s 3ms/step - loss: 0.3204 - accuracy: 0.8883 - val_loss: 0.3044 - val_accuracy: 0.8918\n",
            "Epoch 49/100\n",
            "448/448 [==============================] - 1s 3ms/step - loss: 0.3204 - accuracy: 0.8883 - val_loss: 0.3045 - val_accuracy: 0.8935\n",
            "Epoch 50/100\n",
            "448/448 [==============================] - 1s 3ms/step - loss: 0.3199 - accuracy: 0.8894 - val_loss: 0.3043 - val_accuracy: 0.8932\n",
            "Epoch 51/100\n",
            "448/448 [==============================] - 1s 3ms/step - loss: 0.3187 - accuracy: 0.8901 - val_loss: 0.3043 - val_accuracy: 0.8931\n",
            "Epoch 52/100\n",
            "448/448 [==============================] - 1s 3ms/step - loss: 0.3212 - accuracy: 0.8887 - val_loss: 0.3045 - val_accuracy: 0.8927\n",
            "Epoch 53/100\n",
            "448/448 [==============================] - 1s 3ms/step - loss: 0.3220 - accuracy: 0.8888 - val_loss: 0.3044 - val_accuracy: 0.8936\n",
            "Epoch 54/100\n",
            "448/448 [==============================] - 2s 3ms/step - loss: 0.3195 - accuracy: 0.8902 - val_loss: 0.3043 - val_accuracy: 0.8921\n",
            "Epoch 55/100\n",
            "448/448 [==============================] - 2s 4ms/step - loss: 0.3206 - accuracy: 0.8898 - val_loss: 0.3044 - val_accuracy: 0.8924\n",
            "Epoch 56/100\n",
            "448/448 [==============================] - 2s 4ms/step - loss: 0.3197 - accuracy: 0.8889 - val_loss: 0.3041 - val_accuracy: 0.8921\n",
            "Epoch 57/100\n",
            "448/448 [==============================] - 1s 3ms/step - loss: 0.3207 - accuracy: 0.8883 - val_loss: 0.3041 - val_accuracy: 0.8915\n",
            "Epoch 58/100\n",
            "448/448 [==============================] - 1s 3ms/step - loss: 0.3202 - accuracy: 0.8901 - val_loss: 0.3041 - val_accuracy: 0.8920\n",
            "Epoch 59/100\n",
            "448/448 [==============================] - 1s 3ms/step - loss: 0.3202 - accuracy: 0.8888 - val_loss: 0.3041 - val_accuracy: 0.8928\n",
            "Epoch 60/100\n",
            "448/448 [==============================] - 1s 3ms/step - loss: 0.3208 - accuracy: 0.8889 - val_loss: 0.3040 - val_accuracy: 0.8920\n",
            "Epoch 61/100\n",
            "448/448 [==============================] - 1s 3ms/step - loss: 0.3195 - accuracy: 0.8892 - val_loss: 0.3040 - val_accuracy: 0.8920\n",
            "Epoch 62/100\n",
            "448/448 [==============================] - 1s 3ms/step - loss: 0.3184 - accuracy: 0.8900 - val_loss: 0.3039 - val_accuracy: 0.8911\n",
            "Epoch 63/100\n",
            "448/448 [==============================] - 1s 3ms/step - loss: 0.3204 - accuracy: 0.8891 - val_loss: 0.3039 - val_accuracy: 0.8920\n",
            "Epoch 64/100\n",
            "448/448 [==============================] - 2s 4ms/step - loss: 0.3196 - accuracy: 0.8886 - val_loss: 0.3041 - val_accuracy: 0.8918\n",
            "Epoch 65/100\n",
            "448/448 [==============================] - 2s 4ms/step - loss: 0.3195 - accuracy: 0.8887 - val_loss: 0.3038 - val_accuracy: 0.8917\n",
            "Epoch 66/100\n",
            "448/448 [==============================] - 1s 3ms/step - loss: 0.3194 - accuracy: 0.8896 - val_loss: 0.3038 - val_accuracy: 0.8918\n",
            "Epoch 67/100\n",
            "448/448 [==============================] - 1s 3ms/step - loss: 0.3185 - accuracy: 0.8906 - val_loss: 0.3037 - val_accuracy: 0.8915\n",
            "Epoch 68/100\n",
            "448/448 [==============================] - 1s 3ms/step - loss: 0.3195 - accuracy: 0.8887 - val_loss: 0.3038 - val_accuracy: 0.8927\n",
            "Epoch 69/100\n",
            "448/448 [==============================] - 1s 3ms/step - loss: 0.3191 - accuracy: 0.8883 - val_loss: 0.3036 - val_accuracy: 0.8924\n",
            "Epoch 70/100\n",
            "448/448 [==============================] - 1s 3ms/step - loss: 0.3187 - accuracy: 0.8892 - val_loss: 0.3036 - val_accuracy: 0.8918\n",
            "Epoch 71/100\n",
            "448/448 [==============================] - 1s 3ms/step - loss: 0.3181 - accuracy: 0.8902 - val_loss: 0.3034 - val_accuracy: 0.8924\n",
            "Epoch 72/100\n",
            "448/448 [==============================] - 1s 3ms/step - loss: 0.3191 - accuracy: 0.8888 - val_loss: 0.3034 - val_accuracy: 0.8917\n",
            "Epoch 73/100\n",
            "448/448 [==============================] - 1s 3ms/step - loss: 0.3186 - accuracy: 0.8881 - val_loss: 0.3034 - val_accuracy: 0.8920\n",
            "Epoch 74/100\n",
            "448/448 [==============================] - 2s 4ms/step - loss: 0.3190 - accuracy: 0.8901 - val_loss: 0.3033 - val_accuracy: 0.8918\n",
            "Epoch 75/100\n",
            "448/448 [==============================] - 2s 4ms/step - loss: 0.3187 - accuracy: 0.8891 - val_loss: 0.3035 - val_accuracy: 0.8920\n",
            "Epoch 76/100\n",
            "448/448 [==============================] - 1s 3ms/step - loss: 0.3194 - accuracy: 0.8890 - val_loss: 0.3035 - val_accuracy: 0.8928\n",
            "Epoch 77/100\n",
            "448/448 [==============================] - 1s 3ms/step - loss: 0.3187 - accuracy: 0.8897 - val_loss: 0.3033 - val_accuracy: 0.8922\n",
            "Epoch 78/100\n",
            "448/448 [==============================] - 1s 3ms/step - loss: 0.3195 - accuracy: 0.8890 - val_loss: 0.3033 - val_accuracy: 0.8918\n",
            "Epoch 79/100\n",
            "448/448 [==============================] - 1s 3ms/step - loss: 0.3183 - accuracy: 0.8892 - val_loss: 0.3032 - val_accuracy: 0.8927\n",
            "Epoch 80/100\n",
            "448/448 [==============================] - 1s 3ms/step - loss: 0.3172 - accuracy: 0.8886 - val_loss: 0.3032 - val_accuracy: 0.8935\n",
            "Epoch 81/100\n",
            "448/448 [==============================] - 1s 3ms/step - loss: 0.3177 - accuracy: 0.8893 - val_loss: 0.3030 - val_accuracy: 0.8935\n",
            "Epoch 82/100\n",
            "448/448 [==============================] - 1s 3ms/step - loss: 0.3176 - accuracy: 0.8905 - val_loss: 0.3031 - val_accuracy: 0.8921\n",
            "Epoch 83/100\n",
            "448/448 [==============================] - 1s 3ms/step - loss: 0.3171 - accuracy: 0.8895 - val_loss: 0.3029 - val_accuracy: 0.8929\n",
            "Epoch 84/100\n",
            "448/448 [==============================] - 2s 4ms/step - loss: 0.3173 - accuracy: 0.8886 - val_loss: 0.3029 - val_accuracy: 0.8934\n",
            "Epoch 85/100\n",
            "448/448 [==============================] - 2s 4ms/step - loss: 0.3171 - accuracy: 0.8894 - val_loss: 0.3029 - val_accuracy: 0.8924\n",
            "Epoch 86/100\n",
            "448/448 [==============================] - 1s 3ms/step - loss: 0.3178 - accuracy: 0.8901 - val_loss: 0.3030 - val_accuracy: 0.8922\n",
            "Epoch 87/100\n",
            "448/448 [==============================] - 1s 3ms/step - loss: 0.3179 - accuracy: 0.8886 - val_loss: 0.3028 - val_accuracy: 0.8928\n",
            "Epoch 88/100\n",
            "448/448 [==============================] - 1s 3ms/step - loss: 0.3186 - accuracy: 0.8884 - val_loss: 0.3028 - val_accuracy: 0.8918\n",
            "Epoch 89/100\n",
            "448/448 [==============================] - 1s 3ms/step - loss: 0.3179 - accuracy: 0.8879 - val_loss: 0.3028 - val_accuracy: 0.8920\n",
            "Epoch 90/100\n",
            "448/448 [==============================] - 1s 3ms/step - loss: 0.3168 - accuracy: 0.8904 - val_loss: 0.3027 - val_accuracy: 0.8918\n",
            "Epoch 91/100\n",
            "448/448 [==============================] - 1s 3ms/step - loss: 0.3189 - accuracy: 0.8892 - val_loss: 0.3027 - val_accuracy: 0.8922\n",
            "Epoch 92/100\n",
            "448/448 [==============================] - 1s 3ms/step - loss: 0.3175 - accuracy: 0.8882 - val_loss: 0.3027 - val_accuracy: 0.8920\n",
            "Epoch 93/100\n",
            "448/448 [==============================] - 1s 3ms/step - loss: 0.3176 - accuracy: 0.8895 - val_loss: 0.3027 - val_accuracy: 0.8928\n",
            "Epoch 94/100\n",
            "448/448 [==============================] - 2s 4ms/step - loss: 0.3178 - accuracy: 0.8880 - val_loss: 0.3026 - val_accuracy: 0.8938\n",
            "Epoch 95/100\n",
            "448/448 [==============================] - 2s 5ms/step - loss: 0.3170 - accuracy: 0.8881 - val_loss: 0.3026 - val_accuracy: 0.8918\n",
            "Epoch 96/100\n",
            "448/448 [==============================] - 1s 3ms/step - loss: 0.3168 - accuracy: 0.8892 - val_loss: 0.3029 - val_accuracy: 0.8917\n",
            "Epoch 97/100\n",
            "448/448 [==============================] - 2s 4ms/step - loss: 0.3172 - accuracy: 0.8888 - val_loss: 0.3025 - val_accuracy: 0.8932\n",
            "Epoch 98/100\n",
            "448/448 [==============================] - 1s 3ms/step - loss: 0.3179 - accuracy: 0.8886 - val_loss: 0.3025 - val_accuracy: 0.8918\n",
            "Epoch 99/100\n",
            "448/448 [==============================] - 1s 3ms/step - loss: 0.3160 - accuracy: 0.8897 - val_loss: 0.3028 - val_accuracy: 0.8918\n",
            "Epoch 100/100\n",
            "448/448 [==============================] - 1s 3ms/step - loss: 0.3165 - accuracy: 0.8885 - val_loss: 0.3026 - val_accuracy: 0.8932\n"
          ]
        }
      ]
    },
    {
      "cell_type": "code",
      "source": [
        "loss, accuracy = model2.evaluate(X_test_scaled, y_test)\n",
        "print(f'Accuracy: {accuracy*100:.2f}%')"
      ],
      "metadata": {
        "colab": {
          "base_uri": "https://localhost:8080/"
        },
        "id": "p4F3seG7mmcr",
        "outputId": "366a5d24-0c3e-4757-b65c-73b26fa484f8"
      },
      "execution_count": null,
      "outputs": [
        {
          "output_type": "stream",
          "name": "stdout",
          "text": [
            "280/280 [==============================] - 0s 2ms/step - loss: 0.3115 - accuracy: 0.8927\n",
            "Accuracy: 89.27%\n"
          ]
        }
      ]
    },
    {
      "cell_type": "code",
      "source": [
        "# Sumarizar el historial para la precisión\n",
        "plt.plot(history.history['accuracy'])\n",
        "plt.plot(history.history['val_accuracy'])\n",
        "plt.title('Model Accuracy')\n",
        "plt.ylabel('Accuracy')\n",
        "plt.xlabel('Epoch')\n",
        "plt.legend(['Train', 'Validation'], loc='upper left')\n",
        "plt.show()"
      ],
      "metadata": {
        "colab": {
          "base_uri": "https://localhost:8080/",
          "height": 472
        },
        "id": "tyBwea5dmpLI",
        "outputId": "2a7674f9-cf89-4823-9590-3d9e7799ea72"
      },
      "execution_count": null,
      "outputs": [
        {
          "output_type": "display_data",
          "data": {
            "text/plain": [
              "<Figure size 640x480 with 1 Axes>"
            ],
            "image/png": "[encoded data removed]"
          },
          "metadata": {}
        }
      ]
    },
    {
      "cell_type": "markdown",
      "source": [
        "La precisión tanto en el entrenamiento como en la validación es bastante estable y cercana entre sí, lo cual es un buen indicativo de que el modelo generaliza bien. Este es un cambio positivo en comparación con el primer modelo, donde había una variabilidad significativa en la precisión de validación."
      ],
      "metadata": {
        "id": "YJOeRrjAQtEH"
      }
    },
    {
      "cell_type": "code",
      "source": [
        "# Sumarizar el historial para la pérdida\n",
        "plt.plot(history.history['loss'])\n",
        "plt.plot(history.history['val_loss'])\n",
        "plt.title('Model Loss')\n",
        "plt.ylabel('Loss')\n",
        "plt.xlabel('Epoch')\n",
        "plt.legend(['Train', 'Validation'], loc='upper left')\n",
        "plt.show()"
      ],
      "metadata": {
        "colab": {
          "base_uri": "https://localhost:8080/",
          "height": 472
        },
        "id": "p1WHror9Pdlq",
        "outputId": "6c5dfbad-9459-4672-b4e9-133d2392c239"
      },
      "execution_count": null,
      "outputs": [
        {
          "output_type": "display_data",
          "data": {
            "text/plain": [
              "<Figure size 640x480 with 1 Axes>"
            ],
            "image/png": "[encoded data removed]"
          },
          "metadata": {}
        }
      ]
    },
    {
      "cell_type": "markdown",
      "source": [
        "La pérdida en ambos, entrenamiento y validación, disminuye rápidamente y luego se estabiliza, manteniendo valores muy cercanos a lo largo de las épocas restantes. Esto sugiere que el modelo no está sobreajustando, como era el caso en el primer modelo, donde la pérdida de validación comenzó a aumentar después de un tiempo."
      ],
      "metadata": {
        "id": "O2_lps8EQt9F"
      }
    },
    {
      "cell_type": "markdown",
      "source": [
        "# Hyper Modelo"
      ],
      "metadata": {
        "id": "x7PtY6-TR-xE"
      }
    },
    {
      "cell_type": "code",
      "source": [
        "pip install keras-tuner"
      ],
      "metadata": {
        "colab": {
          "base_uri": "https://localhost:8080/"
        },
        "id": "NKqSfuSiSNxd",
        "outputId": "6641c9bf-d68d-4813-d74a-57a2d19d8b7e"
      },
      "execution_count": null,
      "outputs": [
        {
          "output_type": "stream",
          "name": "stdout",
          "text": [
            "Collecting keras-tuner\n",
            "  Downloading keras_tuner-1.4.7-py3-none-any.whl (129 kB)\n",
            "\u001b[?25l     \u001b[90m━━━━━━━━━━━━━━━━━━━━━━━━━━━━━━━━━━━━━━━━\u001b[0m \u001b[32m0.0/129.1 kB\u001b[0m \u001b[31m?\u001b[0m eta \u001b[36m-:--:--\u001b[0m\r\u001b[2K     \u001b[91m━━━━━━━━━━━━━━━━━━━━━━━━━━━━━━━\u001b[0m\u001b[91m╸\u001b[0m\u001b[90m━━━━━━━━\u001b[0m \u001b[32m102.4/129.1 kB\u001b[0m \u001b[31m2.9 MB/s\u001b[0m eta \u001b[36m0:00:01\u001b[0m\r\u001b[2K     \u001b[90m━━━━━━━━━━━━━━━━━━━━━━━━━━━━━━━━━━━━━━━━\u001b[0m \u001b[32m129.1/129.1 kB\u001b[0m \u001b[31m2.5 MB/s\u001b[0m eta \u001b[36m0:00:00\u001b[0m\n",
            "\u001b[?25hRequirement already satisfied: keras in /usr/local/lib/python3.10/dist-packages (from keras-tuner) (2.15.0)\n",
            "Requirement already satisfied: packaging in /usr/local/lib/python3.10/dist-packages (from keras-tuner) (24.0)\n",
            "Requirement already satisfied: requests in /usr/local/lib/python3.10/dist-packages (from keras-tuner) (2.31.0)\n",
            "Collecting kt-legacy (from keras-tuner)\n",
            "  Downloading kt_legacy-1.0.5-py3-none-any.whl (9.6 kB)\n",
            "Requirement already satisfied: charset-normalizer<4,>=2 in /usr/local/lib/python3.10/dist-packages (from requests->keras-tuner) (3.3.2)\n",
            "Requirement already satisfied: idna<4,>=2.5 in /usr/local/lib/python3.10/dist-packages (from requests->keras-tuner) (3.7)\n",
            "Requirement already satisfied: urllib3<3,>=1.21.1 in /usr/local/lib/python3.10/dist-packages (from requests->keras-tuner) (2.0.7)\n",
            "Requirement already satisfied: certifi>=2017.4.17 in /usr/local/lib/python3.10/dist-packages (from requests->keras-tuner) (2024.2.2)\n",
            "Installing collected packages: kt-legacy, keras-tuner\n",
            "Successfully installed keras-tuner-1.4.7 kt-legacy-1.0.5\n"
          ]
        }
      ]
    },
    {
      "cell_type": "code",
      "source": [
        "from kerastuner import HyperModel\n",
        "from kerastuner.tuners import RandomSearch\n",
        "from keras.layers import Dropout, Dense\n",
        "from keras.models import Sequential\n",
        "from keras.optimizers import Adam\n",
        "from keras.regularizers import l2\n",
        "\n",
        "class MyHyperModel(HyperModel):\n",
        "    def __init__(self, input_shape):\n",
        "        self.input_shape = input_shape\n",
        "\n",
        "    def build(self, hp):\n",
        "        model = Sequential()\n",
        "        model.add(Dense(\n",
        "            units=hp.Int('units', 32, 128, step=32, default=64),\n",
        "            activation='relu',\n",
        "            input_shape=(self.input_shape,),\n",
        "            kernel_regularizer=l2(hp.Float('l2', 1e-4, 1e-2, sampling='log'))))\n",
        "        model.add(Dropout(hp.Float('dropout_1', 0.3, 0.7, step=0.1, default=0.5)))\n",
        "        for i in range(hp.Int('layers', 1, 3)):\n",
        "            model.add(Dense(\n",
        "                units=hp.Int(f'units_{i}', 32, 128, step=32),\n",
        "                activation='relu',\n",
        "                kernel_regularizer=l2(hp.Float(f'l2_{i}', 1e-4, 1e-2, sampling='log'))))\n",
        "            model.add(Dropout(hp.Float(f'dropout_{i+1}', 0.3, 0.7, step=0.1)))\n",
        "        model.add(Dense(1, activation='sigmoid'))\n",
        "        model.compile(\n",
        "            optimizer=Adam(hp.Float('learning_rate', 1e-4, 1e-2, sampling='log')),\n",
        "            loss='binary_crossentropy',\n",
        "            metrics=['accuracy'])\n",
        "        return model\n",
        "\n",
        "# Crear una instancia del modelo hypermodel\n",
        "hypermodel = MyHyperModel(input_shape=X_train_scaled.shape[1])\n",
        "\n",
        "# Configurar el tuner\n",
        "tuner = RandomSearch(\n",
        "    hypermodel,\n",
        "    objective='val_loss',\n",
        "    max_trials=20,\n",
        "    executions_per_trial=2,\n",
        "    directory='my_dir',\n",
        "    project_name='keras_tuner_demo')\n",
        "\n",
        "# Iniciar la búsqueda\n",
        "tuner.search(X_train_scaled, y_train, epochs=10, validation_split=0.2, verbose=1)\n",
        "\n",
        "# Obtener el mejor modelo\n",
        "best_model = tuner.get_best_models(num_models=1)[0]\n",
        "best_model.summary()"
      ],
      "metadata": {
        "colab": {
          "base_uri": "https://localhost:8080/"
        },
        "id": "ffRFcMA_SA2d",
        "outputId": "b4ad1c12-97d5-4333-eec2-c1ec727e9d8a"
      },
      "execution_count": null,
      "outputs": [
        {
          "output_type": "stream",
          "name": "stdout",
          "text": [
            "Trial 20 Complete [00h 01m 17s]\n",
            "val_loss: 0.3031429797410965\n",
            "\n",
            "Best val_loss So Far: 0.29551932215690613\n",
            "Total elapsed time: 00h 25m 43s\n",
            "Model: \"sequential\"\n",
            "_________________________________________________________________\n",
            " Layer (type)                Output Shape              Param #   \n",
            "=================================================================\n",
            " dense (Dense)               (None, 128)               2176      \n",
            "                                                                 \n",
            " dropout (Dropout)           (None, 128)               0         \n",
            "                                                                 \n",
            " dense_1 (Dense)             (None, 64)                8256      \n",
            "                                                                 \n",
            " dropout_1 (Dropout)         (None, 64)                0         \n",
            "                                                                 \n",
            " dense_2 (Dense)             (None, 1)                 65        \n",
            "                                                                 \n",
            "=================================================================\n",
            "Total params: 10497 (41.00 KB)\n",
            "Trainable params: 10497 (41.00 KB)\n",
            "Non-trainable params: 0 (0.00 Byte)\n",
            "_________________________________________________________________\n"
          ]
        }
      ]
    },
    {
      "cell_type": "markdown",
      "source": [
        "## Entrenamiento Final del Modelo"
      ],
      "metadata": {
        "id": "a2lo7KKNb2Ei"
      }
    },
    {
      "cell_type": "code",
      "source": [
        "# Configuración del modelo con los mejores hiperparámetros\n",
        "final_model = Sequential([\n",
        "    Dense(128, activation='relu', input_shape=(X_train_scaled.shape[1],), kernel_regularizer=l2(0.01)),\n",
        "    Dropout(0.5),\n",
        "    Dense(64, activation='relu', kernel_regularizer=l2(0.01)),\n",
        "    Dropout(0.5),\n",
        "    Dense(1, activation='sigmoid')\n",
        "])\n",
        "\n",
        "# Compilando el modelo final\n",
        "final_model.compile(optimizer=Adam(learning_rate=0.0001), loss='binary_crossentropy', metrics=['accuracy'])\n",
        "\n",
        "# Entrenar el modelo en el conjunto de datos completo (entrenamiento + validación)\n",
        "#X_full_scaled = np.vstack((X_train_scaled, X_test_scaled))  # Combina train y validation sets para el entrenamiento final\n",
        "#y_full = np.hstack((y_train, y_test))\n",
        "\n",
        "#final_model.fit(X_full_scaled, y_full, epochs=10, batch_size=64, verbose=1)\n",
        "history = final_model.fit(X_train_scaled, y_train, validation_split=0.2, epochs=10, batch_size=64, verbose=1)"
      ],
      "metadata": {
        "colab": {
          "base_uri": "https://localhost:8080/"
        },
        "id": "dQfec9Nfb23A",
        "outputId": "9a1907b7-420b-47a7-87de-41ead5dde92b"
      },
      "execution_count": null,
      "outputs": [
        {
          "output_type": "stream",
          "name": "stdout",
          "text": [
            "Epoch 1/10\n",
            "448/448 [==============================] - 3s 4ms/step - loss: 1.5138 - accuracy: 0.8005 - val_loss: 1.2101 - val_accuracy: 0.8841\n",
            "Epoch 2/10\n",
            "448/448 [==============================] - 1s 3ms/step - loss: 1.0966 - accuracy: 0.8816 - val_loss: 0.9233 - val_accuracy: 0.8875\n",
            "Epoch 3/10\n",
            "448/448 [==============================] - 1s 3ms/step - loss: 0.8547 - accuracy: 0.8848 - val_loss: 0.7299 - val_accuracy: 0.8924\n",
            "Epoch 4/10\n",
            "448/448 [==============================] - 2s 4ms/step - loss: 0.6904 - accuracy: 0.8868 - val_loss: 0.5963 - val_accuracy: 0.8939\n",
            "Epoch 5/10\n",
            "448/448 [==============================] - 2s 5ms/step - loss: 0.5712 - accuracy: 0.8877 - val_loss: 0.5051 - val_accuracy: 0.8945\n",
            "Epoch 6/10\n",
            "448/448 [==============================] - 2s 4ms/step - loss: 0.4940 - accuracy: 0.8894 - val_loss: 0.4429 - val_accuracy: 0.8946\n",
            "Epoch 7/10\n",
            "448/448 [==============================] - 1s 3ms/step - loss: 0.4398 - accuracy: 0.8889 - val_loss: 0.4003 - val_accuracy: 0.8941\n",
            "Epoch 8/10\n",
            "448/448 [==============================] - 2s 5ms/step - loss: 0.4028 - accuracy: 0.8884 - val_loss: 0.3712 - val_accuracy: 0.8935\n",
            "Epoch 9/10\n",
            "448/448 [==============================] - 1s 3ms/step - loss: 0.3764 - accuracy: 0.8899 - val_loss: 0.3513 - val_accuracy: 0.8934\n",
            "Epoch 10/10\n",
            "448/448 [==============================] - 1s 3ms/step - loss: 0.3592 - accuracy: 0.8896 - val_loss: 0.3377 - val_accuracy: 0.8938\n"
          ]
        }
      ]
    },
    {
      "cell_type": "markdown",
      "source": [
        "##  Evaluación del Modelo"
      ],
      "metadata": {
        "id": "oUHJOnd_cCxA"
      }
    },
    {
      "cell_type": "code",
      "source": [
        "# Suponiendo que tienes un conjunto de test separado que no fue utilizado\n",
        "loss, accuracy = final_model.evaluate(X_test_scaled, y_test)\n",
        "print(f'Test Accuracy: {accuracy*100:.2f}%')\n",
        "print(f'Test Loss: {loss}')"
      ],
      "metadata": {
        "colab": {
          "base_uri": "https://localhost:8080/"
        },
        "id": "LNQYx_4ecBce",
        "outputId": "c58f4e21-9cab-4b01-a84c-12a8ba39d564"
      },
      "execution_count": null,
      "outputs": [
        {
          "output_type": "stream",
          "name": "stdout",
          "text": [
            "280/280 [==============================] - 1s 2ms/step - loss: 0.3463 - accuracy: 0.8927\n",
            "Test Accuracy: 89.27%\n",
            "Test Loss: 0.34630101919174194\n"
          ]
        }
      ]
    },
    {
      "cell_type": "code",
      "source": [
        "# Sumarizar el historial para la precisión\n",
        "plt.plot(history.history['accuracy'])\n",
        "plt.plot(history.history['val_accuracy'])\n",
        "plt.title('Model Accuracy')\n",
        "plt.ylabel('Accuracy')\n",
        "plt.xlabel('Epoch')\n",
        "plt.legend(['Train', 'Validation'], loc='upper left')\n",
        "plt.show()"
      ],
      "metadata": {
        "colab": {
          "base_uri": "https://localhost:8080/",
          "height": 472
        },
        "id": "w_R83AFddfq7",
        "outputId": "49099a1b-afd7-4d71-dff5-398e79948bec"
      },
      "execution_count": null,
      "outputs": [
        {
          "output_type": "display_data",
          "data": {
            "text/plain": [
              "<Figure size 640x480 with 1 Axes>"
            ],
            "image/png": "[encoded data removed]"
          },
          "metadata": {}
        }
      ]
    },
    {
      "cell_type": "markdown",
      "source": [
        "La precisión del modelo en el conjunto de entrenamiento y validación es bastante alta y estable, con la línea de validación siguiendo de cerca a la línea de entrenamiento, lo que indica un buen equilibrio y que el modelo generaliza bien."
      ],
      "metadata": {
        "id": "gsMhEYJYe9GA"
      }
    },
    {
      "cell_type": "code",
      "source": [
        "# Sumarizar el historial para la pérdida\n",
        "plt.plot(history.history['loss'])\n",
        "plt.plot(history.history['val_loss'])\n",
        "plt.title('Model Loss')\n",
        "plt.ylabel('Loss')\n",
        "plt.xlabel('Epoch')\n",
        "plt.legend(['Train', 'Validation'], loc='upper left')\n",
        "plt.show()"
      ],
      "metadata": {
        "colab": {
          "base_uri": "https://localhost:8080/",
          "height": 472
        },
        "id": "wGzOgzU1dgPW",
        "outputId": "c66a9050-1a0c-4d00-e170-f6ff9727361e"
      },
      "execution_count": null,
      "outputs": [
        {
          "output_type": "display_data",
          "data": {
            "text/plain": [
              "<Figure size 640x480 with 1 Axes>"
            ],
            "image/png": "[encoded data removed]"
          },
          "metadata": {}
        }
      ]
    },
    {
      "cell_type": "markdown",
      "source": [
        "La pérdida en ambos conjuntos disminuye de manera constante y se estabiliza, lo cual es un indicativo positivo de que el modelo está aprendiendo adecuadamente sin sobreajustarse significativamente."
      ],
      "metadata": {
        "id": "I0j5Rxi7e99H"
      }
    },
    {
      "cell_type": "code",
      "source": [
        "from sklearn.metrics import classification_report, roc_curve, auc\n",
        "import matplotlib.pyplot as plt\n",
        "import numpy as np\n",
        "\n",
        "# Realizar predicciones probabilísticas con el modelo\n",
        "y_pred_prob = final_model.predict(X_test_scaled).ravel()  # Obtener probabilidades\n",
        "y_pred = (y_pred_prob > 0.5).astype(int)  # Convertir probabilidades a etiquetas binarias\n",
        "\n",
        "# Calcular las métricas de clasificación\n",
        "print(classification_report(y_test, y_pred))"
      ],
      "metadata": {
        "colab": {
          "base_uri": "https://localhost:8080/"
        },
        "id": "8CcF1LOFf92U",
        "outputId": "e48b4c3b-68dc-4b10-fa96-9c3a5b1c1e99"
      },
      "execution_count": null,
      "outputs": [
        {
          "output_type": "stream",
          "name": "stdout",
          "text": [
            "280/280 [==============================] - 1s 3ms/step\n",
            "              precision    recall  f1-score   support\n",
            "\n",
            "           0       0.90      0.99      0.94      7907\n",
            "           1       0.65      0.16      0.26      1036\n",
            "\n",
            "    accuracy                           0.89      8943\n",
            "   macro avg       0.77      0.58      0.60      8943\n",
            "weighted avg       0.87      0.89      0.86      8943\n",
            "\n"
          ]
        }
      ]
    },
    {
      "cell_type": "code",
      "source": [
        "import numpy as np\n",
        "from sklearn.model_selection import StratifiedKFold\n",
        "from sklearn.metrics import roc_auc_score\n",
        "from tensorflow.keras.models import Sequential\n",
        "from tensorflow.keras.layers import Dense, Dropout\n",
        "from tensorflow.keras.optimizers import Adam\n",
        "from tensorflow.keras.regularizers import l2\n",
        "\n",
        "# Asegúrate de que los datos son arrays de NumPy directamente\n",
        "X = np.array(X_train_scaled)\n",
        "y = np.array(y_train)\n",
        "\n",
        "def create_model(l2_rate, learning_rate):\n",
        "    model = Sequential([\n",
        "        Dense(128, activation='relu', input_shape=(X.shape[1],), kernel_regularizer=l2(l2_rate)),\n",
        "        Dropout(0.5),\n",
        "        Dense(64, activation='relu', kernel_regularizer=l2(l2_rate)),\n",
        "        Dropout(0.5),\n",
        "        Dense(1, activation='sigmoid')\n",
        "    ])\n",
        "    model.compile(optimizer=Adam(learning_rate=learning_rate), loss='binary_crossentropy', metrics=['accuracy'])\n",
        "    return model\n",
        "\n",
        "# Configuración de la validación cruzada\n",
        "n_splits = 5\n",
        "skf = StratifiedKFold(n_splits=n_splits, shuffle=True, random_state=42)\n",
        "\n",
        "# Ejecutar la validación cruzada\n",
        "auc_scores = []\n",
        "for train_index, test_index in skf.split(X, y):\n",
        "    X_train_fold = X[train_index]\n",
        "    X_test_fold = X[test_index]\n",
        "    y_train_fold = y[train_index]\n",
        "    y_test_fold = y[test_index]\n",
        "\n",
        "    model = create_model(0.01, 0.0001)  # Ajusta los hiperparámetros según tu optimización\n",
        "    model.fit(X_train_fold, y_train_fold, epochs=10, batch_size=64, verbose=1)\n",
        "\n",
        "    # Evaluación del modelo en el conjunto de prueba del pliegue actual\n",
        "    y_pred_prob = model.predict(X_test_fold).ravel()\n",
        "    roc_auc = roc_auc_score(y_test_fold, y_pred_prob)\n",
        "    auc_scores.append(roc_auc)\n",
        "\n",
        "# Imprimir el rendimiento promedio en todos los pliegues\n",
        "print(f'Mean ROC AUC Score across all folds: {np.mean(auc_scores)}')"
      ],
      "metadata": {
        "colab": {
          "base_uri": "https://localhost:8080/"
        },
        "id": "IU5oJfeajdOm",
        "outputId": "328cf8bd-62cf-4981-cba6-6d32065a49f1"
      },
      "execution_count": null,
      "outputs": [
        {
          "output_type": "stream",
          "name": "stdout",
          "text": [
            "Epoch 1/10\n",
            "448/448 [==============================] - 4s 6ms/step - loss: 1.4755 - accuracy: 0.8090\n",
            "Epoch 2/10\n",
            "448/448 [==============================] - 3s 8ms/step - loss: 1.0517 - accuracy: 0.8829\n",
            "Epoch 3/10\n",
            "448/448 [==============================] - 4s 9ms/step - loss: 0.8095 - accuracy: 0.8852\n",
            "Epoch 4/10\n",
            "448/448 [==============================] - 3s 6ms/step - loss: 0.6502 - accuracy: 0.8870\n",
            "Epoch 5/10\n",
            "448/448 [==============================] - 3s 6ms/step - loss: 0.5471 - accuracy: 0.8879\n",
            "Epoch 6/10\n",
            "448/448 [==============================] - 2s 6ms/step - loss: 0.4751 - accuracy: 0.8903\n",
            "Epoch 7/10\n",
            "448/448 [==============================] - 1s 2ms/step - loss: 0.4280 - accuracy: 0.8883\n",
            "Epoch 8/10\n",
            "448/448 [==============================] - 1s 2ms/step - loss: 0.3958 - accuracy: 0.8890\n",
            "Epoch 9/10\n",
            "448/448 [==============================] - 1s 2ms/step - loss: 0.3740 - accuracy: 0.8900\n",
            "Epoch 10/10\n",
            "448/448 [==============================] - 2s 4ms/step - loss: 0.3573 - accuracy: 0.8902\n",
            "224/224 [==============================] - 1s 2ms/step\n",
            "Epoch 1/10\n",
            "448/448 [==============================] - 2s 3ms/step - loss: 1.4331 - accuracy: 0.8279\n",
            "Epoch 2/10\n",
            "448/448 [==============================] - 1s 2ms/step - loss: 1.0108 - accuracy: 0.8831\n",
            "Epoch 3/10\n",
            "448/448 [==============================] - 1s 3ms/step - loss: 0.7771 - accuracy: 0.8868\n",
            "Epoch 4/10\n",
            "448/448 [==============================] - 1s 2ms/step - loss: 0.6272 - accuracy: 0.8876\n",
            "Epoch 5/10\n",
            "448/448 [==============================] - 1s 3ms/step - loss: 0.5315 - accuracy: 0.8882\n",
            "Epoch 6/10\n",
            "448/448 [==============================] - 1s 2ms/step - loss: 0.4642 - accuracy: 0.8884\n",
            "Epoch 7/10\n",
            "448/448 [==============================] - 1s 2ms/step - loss: 0.4186 - accuracy: 0.8890\n",
            "Epoch 8/10\n",
            "448/448 [==============================] - 1s 2ms/step - loss: 0.3900 - accuracy: 0.8888\n",
            "Epoch 9/10\n",
            "448/448 [==============================] - 1s 3ms/step - loss: 0.3679 - accuracy: 0.8892\n",
            "Epoch 10/10\n",
            "448/448 [==============================] - 2s 4ms/step - loss: 0.3547 - accuracy: 0.8891\n",
            "224/224 [==============================] - 0s 2ms/step\n",
            "Epoch 1/10\n",
            "448/448 [==============================] - 3s 4ms/step - loss: 1.4433 - accuracy: 0.8185\n",
            "Epoch 2/10\n",
            "448/448 [==============================] - 2s 4ms/step - loss: 1.0207 - accuracy: 0.8837\n",
            "Epoch 3/10\n",
            "448/448 [==============================] - 1s 3ms/step - loss: 0.7810 - accuracy: 0.8859\n",
            "Epoch 4/10\n",
            "448/448 [==============================] - 1s 3ms/step - loss: 0.6287 - accuracy: 0.8870\n",
            "Epoch 5/10\n",
            "448/448 [==============================] - 1s 2ms/step - loss: 0.5284 - accuracy: 0.8882\n",
            "Epoch 6/10\n",
            "448/448 [==============================] - 1s 3ms/step - loss: 0.4626 - accuracy: 0.8898\n",
            "Epoch 7/10\n",
            "448/448 [==============================] - 1s 3ms/step - loss: 0.4188 - accuracy: 0.8897\n",
            "Epoch 8/10\n",
            "448/448 [==============================] - 1s 3ms/step - loss: 0.3906 - accuracy: 0.8895\n",
            "Epoch 9/10\n",
            "448/448 [==============================] - 1s 3ms/step - loss: 0.3673 - accuracy: 0.8907\n",
            "Epoch 10/10\n",
            "448/448 [==============================] - 1s 3ms/step - loss: 0.3546 - accuracy: 0.8896\n",
            "224/224 [==============================] - 0s 1ms/step\n",
            "Epoch 1/10\n",
            "448/448 [==============================] - 2s 2ms/step - loss: 1.3711 - accuracy: 0.8722\n",
            "Epoch 2/10\n",
            "448/448 [==============================] - 1s 2ms/step - loss: 1.0006 - accuracy: 0.8836\n",
            "Epoch 3/10\n",
            "448/448 [==============================] - 1s 2ms/step - loss: 0.7718 - accuracy: 0.8862\n",
            "Epoch 4/10\n",
            "448/448 [==============================] - 1s 3ms/step - loss: 0.6222 - accuracy: 0.8860\n",
            "Epoch 5/10\n",
            "448/448 [==============================] - 2s 4ms/step - loss: 0.5236 - accuracy: 0.8887\n",
            "Epoch 6/10\n",
            "448/448 [==============================] - 2s 4ms/step - loss: 0.4573 - accuracy: 0.8893\n",
            "Epoch 7/10\n",
            "448/448 [==============================] - 1s 2ms/step - loss: 0.4161 - accuracy: 0.8889\n",
            "Epoch 8/10\n",
            "448/448 [==============================] - 1s 2ms/step - loss: 0.3860 - accuracy: 0.8906\n",
            "Epoch 9/10\n",
            "448/448 [==============================] - 1s 2ms/step - loss: 0.3645 - accuracy: 0.8909\n",
            "Epoch 10/10\n",
            "448/448 [==============================] - 1s 2ms/step - loss: 0.3513 - accuracy: 0.8903\n",
            "224/224 [==============================] - 0s 1ms/step\n",
            "Epoch 1/10\n",
            "448/448 [==============================] - 2s 2ms/step - loss: 1.4806 - accuracy: 0.8067\n",
            "Epoch 2/10\n",
            "448/448 [==============================] - 1s 3ms/step - loss: 1.0799 - accuracy: 0.8836\n",
            "Epoch 3/10\n",
            "448/448 [==============================] - 1s 2ms/step - loss: 0.8437 - accuracy: 0.8853\n",
            "Epoch 4/10\n",
            "448/448 [==============================] - 2s 4ms/step - loss: 0.6820 - accuracy: 0.8867\n",
            "Epoch 5/10\n",
            "448/448 [==============================] - 2s 4ms/step - loss: 0.5699 - accuracy: 0.8874\n",
            "Epoch 6/10\n",
            "448/448 [==============================] - 1s 3ms/step - loss: 0.4911 - accuracy: 0.8894\n",
            "Epoch 7/10\n",
            "448/448 [==============================] - 1s 2ms/step - loss: 0.4394 - accuracy: 0.8893\n",
            "Epoch 8/10\n",
            "448/448 [==============================] - 1s 2ms/step - loss: 0.4033 - accuracy: 0.8887\n",
            "Epoch 9/10\n",
            "448/448 [==============================] - 1s 2ms/step - loss: 0.3783 - accuracy: 0.8895\n",
            "Epoch 10/10\n",
            "448/448 [==============================] - 1s 2ms/step - loss: 0.3624 - accuracy: 0.8899\n",
            "224/224 [==============================] - 0s 1ms/step\n",
            "Mean ROC AUC Score across all folds: 0.7746753000306331\n"
          ]
        }
      ]
    },
    {
      "cell_type": "markdown",
      "source": [
        "Los registros de entrenamiento muestran que el modelo alcanza consistentemente una precisión aproximada de 88-89% en cada fold. Esto sugiere que el modelo es estable y produce resultados consistentes a través de diferentes muestras de datos."
      ],
      "metadata": {
        "id": "tvBmowz_rPfX"
      }
    },
    {
      "cell_type": "markdown",
      "source": [
        "La pérdida (loss) disminuye con cada época de entrenamiento, lo que indica que el modelo está aprendiendo efectivamente de los datos en cada fold. La pérdida comienza más alta en la primera época y luego se reduce significativamente, estabilizándose hacia las últimas épocas."
      ],
      "metadata": {
        "id": "d3uz7FuirP_y"
      }
    },
    {
      "cell_type": "markdown",
      "source": [
        "El valor medio del ROC AUC Score es de aproximadamente 0.775. El AUC (Area Under the Curve) mide la capacidad del modelo para discriminar entre las clases positivas y negativas. Un AUC de 0.775 indica una buena capacidad predictiva, aunque podría haber margen para mejorar."
      ],
      "metadata": {
        "id": "no5wikBGrYsP"
      }
    }
  ],
  "metadata": {
    "kernelspec": {
      "display_name": "entorno_cluster",
      "language": "python",
      "name": "python3"
    },
    "language_info": {
      "codemirror_mode": {
        "name": "ipython",
        "version": 3
      },
      "file_extension": ".py",
      "mimetype": "text/x-python",
      "name": "python",
      "nbconvert_exporter": "python",
      "pygments_lexer": "ipython3",
      "version": "3.12.2"
    },
    "colab": {
      "provenance": []
    }
  },
  "nbformat": 4,
  "nbformat_minor": 0
}